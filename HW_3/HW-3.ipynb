{
 "cells": [
  {
   "cell_type": "markdown",
   "metadata": {},
   "source": [
    "# HW-3"
   ]
  },
  {
   "cell_type": "code",
   "execution_count": 1,
   "metadata": {
    "collapsed": true
   },
   "outputs": [],
   "source": [
    "import wikipedia\n",
    "import warnings\n",
    "warnings.filterwarnings(\"ignore\")\n",
    "import re"
   ]
  },
  {
   "cell_type": "code",
   "execution_count": 2,
   "metadata": {
    "collapsed": true
   },
   "outputs": [],
   "source": [
    "? wikipedia"
   ]
  },
  {
   "cell_type": "code",
   "execution_count": 183,
   "metadata": {
    "collapsed": false
   },
   "outputs": [],
   "source": [
    "#wikipedia.languages()"
   ]
  },
  {
   "cell_type": "code",
   "execution_count": 2,
   "metadata": {
    "collapsed": false
   },
   "outputs": [
    {
     "data": {
      "text/plain": [
       "dict_keys(['aa', 'ab', 'ace', 'ady', 'ady-cyrl', 'aeb', 'aeb-arab', 'aeb-latn', 'af', 'ak', 'aln', 'als', 'am', 'an', 'ang', 'anp', 'ar', 'arc', 'arn', 'arq', 'ary', 'arz', 'as', 'ase', 'ast', 'atj', 'av', 'avk', 'awa', 'ay', 'az', 'azb', 'ba', 'ban', 'bar', 'bat-smg', 'bbc', 'bbc-latn', 'bcc', 'bcl', 'be', 'be-tarask', 'be-x-old', 'bg', 'bgn', 'bh', 'bho', 'bi', 'bjn', 'bm', 'bn', 'bo', 'bpy', 'bqi', 'br', 'brh', 'bs', 'bto', 'bug', 'bxr', 'ca', 'cbk-zam', 'cdo', 'ce', 'ceb', 'ch', 'cho', 'chr', 'chy', 'ckb', 'co', 'cps', 'cr', 'crh', 'crh-cyrl', 'crh-latn', 'cs', 'csb', 'cu', 'cv', 'cy', 'da', 'de', 'de-at', 'de-ch', 'de-formal', 'din', 'diq', 'dsb', 'dtp', 'dty', 'dv', 'dz', 'ee', 'egl', 'el', 'eml', 'en', 'en-ca', 'en-gb', 'eo', 'es', 'es-formal', 'et', 'eu', 'ext', 'fa', 'ff', 'fi', 'fit', 'fiu-vro', 'fj', 'fo', 'fr', 'frc', 'frp', 'frr', 'fur', 'fy', 'ga', 'gag', 'gan', 'gan-hans', 'gan-hant', 'gcr', 'gd', 'gl', 'glk', 'gn', 'gom', 'gom-deva', 'gom-latn', 'gor', 'got', 'grc', 'gsw', 'gu', 'gv', 'ha', 'hak', 'haw', 'he', 'hi', 'hif', 'hif-latn', 'hil', 'ho', 'hr', 'hrx', 'hsb', 'ht', 'hu', 'hu-formal', 'hy', 'hz', 'ia', 'id', 'ie', 'ig', 'ii', 'ik', 'ike-cans', 'ike-latn', 'ilo', 'inh', 'io', 'is', 'it', 'iu', 'ja', 'jam', 'jbo', 'jut', 'jv', 'ka', 'kaa', 'kab', 'kbd', 'kbd-cyrl', 'kbp', 'kg', 'khw', 'ki', 'kiu', 'kj', 'kk', 'kk-arab', 'kk-cn', 'kk-cyrl', 'kk-kz', 'kk-latn', 'kk-tr', 'kl', 'km', 'kn', 'ko', 'ko-kp', 'koi', 'kr', 'krc', 'kri', 'krj', 'krl', 'ks', 'ks-arab', 'ks-deva', 'ksh', 'ku', 'ku-arab', 'ku-latn', 'kum', 'kv', 'kw', 'ky', 'la', 'lad', 'lb', 'lbe', 'lez', 'lfn', 'lg', 'li', 'lij', 'liv', 'lki', 'lmo', 'ln', 'lo', 'loz', 'lrc', 'lt', 'ltg', 'lus', 'luz', 'lv', 'lzh', 'lzz', 'mai', 'map-bms', 'mdf', 'mg', 'mh', 'mhr', 'mi', 'min', 'mk', 'ml', 'mn', 'mo', 'mr', 'mrj', 'ms', 'mt', 'mus', 'mwl', 'my', 'myv', 'mzn', 'na', 'nah', 'nan', 'nap', 'nb', 'nds', 'nds-nl', 'ne', 'new', 'ng', 'niu', 'nl', 'nl-informal', 'nn', 'no', 'nov', 'nrm', 'nso', 'nv', 'ny', 'nys', 'oc', 'olo', 'om', 'or', 'os', 'pa', 'pag', 'pam', 'pap', 'pcd', 'pdc', 'pdt', 'pfl', 'pi', 'pih', 'pl', 'pms', 'pnb', 'pnt', 'prg', 'ps', 'pt', 'pt-br', 'qu', 'qug', 'rgn', 'rif', 'rm', 'rmy', 'rn', 'ro', 'roa-rup', 'roa-tara', 'ru', 'rue', 'rup', 'ruq', 'ruq-cyrl', 'ruq-latn', 'rw', 'sa', 'sah', 'sat', 'sc', 'scn', 'sco', 'sd', 'sdc', 'sdh', 'se', 'sei', 'ses', 'sg', 'sgs', 'sh', 'shi', 'shi-latn', 'shi-tfng', 'shn', 'si', 'simple', 'sk', 'skr', 'skr-arab', 'sl', 'sli', 'sm', 'sma', 'sn', 'so', 'sq', 'sr', 'sr-ec', 'sr-el', 'srn', 'ss', 'st', 'stq', 'sty', 'su', 'sv', 'sw', 'szl', 'ta', 'tay', 'tcy', 'te', 'tet', 'tg', 'tg-cyrl', 'tg-latn', 'th', 'ti', 'tk', 'tl', 'tly', 'tn', 'to', 'tpi', 'tr', 'tru', 'ts', 'tt', 'tt-cyrl', 'tt-latn', 'tum', 'tw', 'ty', 'tyv', 'tzm', 'udm', 'ug', 'ug-arab', 'ug-latn', 'uk', 'ur', 'uz', 'uz-cyrl', 'uz-latn', 've', 'vec', 'vep', 'vi', 'vls', 'vmf', 'vo', 'vot', 'vro', 'wa', 'war', 'wo', 'wuu', 'xal', 'xh', 'xmf', 'yi', 'yo', 'yue', 'za', 'zea', 'zh', 'zh-classical', 'zh-cn', 'zh-hans', 'zh-hant', 'zh-hk', 'zh-min-nan', 'zh-mo', 'zh-my', 'zh-sg', 'zh-tw', 'zh-yue', 'zu'])"
      ]
     },
     "execution_count": 2,
     "metadata": {},
     "output_type": "execute_result"
    }
   ],
   "source": [
    "languages = wikipedia.languages().keys()\n",
    "languages"
   ]
  },
  {
   "cell_type": "markdown",
   "metadata": {},
   "source": [
    "** Выберем несколько языков:**\n",
    "\n",
    "- славянские языки\n",
    "- европейские языки (романские и другие с латинским алфавитом)\n",
    "- с иероглифической и другими письменностями"
   ]
  },
  {
   "cell_type": "code",
   "execution_count": 3,
   "metadata": {
    "collapsed": true
   },
   "outputs": [],
   "source": [
    "languages = ['el','gom','hy','ja','ko','zh','ps',\n",
    "             'ru','be','kk','bg','mk','ba','sr','tt','tg','sl',\n",
    "            'af','en','fr','la','no','pl','pt','es','ca','de']"
   ]
  },
  {
   "cell_type": "markdown",
   "metadata": {},
   "source": [
    "Скачиваем статьи для обучения. Лучше расширить exception, сделав общий, так как есть другие ошибки."
   ]
  },
  {
   "cell_type": "code",
   "execution_count": 6,
   "metadata": {
    "collapsed": true
   },
   "outputs": [],
   "source": [
    "def get_texts_for_lang(lang, n=10): # функция для скачивания статей из википедии\n",
    "    wikipedia.set_lang(lang)\n",
    "    wiki_content = []\n",
    "    pages = wikipedia.random(n)\n",
    "    for page_name in pages:\n",
    "        try:\n",
    "            page = wikipedia.page(page_name)\n",
    "        except:\n",
    "            #print('Skipping page {}'.format(page_name))\n",
    "            continue\n",
    "\n",
    "        wiki_content.append('{}\\n{}'.format(page.title, page.content.replace('==', '')))\n",
    "\n",
    "    return wiki_content"
   ]
  },
  {
   "cell_type": "markdown",
   "metadata": {},
   "source": [
    "Загружаем статьи, выводим количество для контроля размера корпуса"
   ]
  },
  {
   "cell_type": "code",
   "execution_count": 7,
   "metadata": {
    "collapsed": false
   },
   "outputs": [
    {
     "name": "stdout",
     "output_type": "stream",
     "text": [
      "el 95\n",
      "gom 100\n",
      "hy 93\n",
      "ja 94\n",
      "ko 92\n",
      "zh 97\n",
      "ps 99\n",
      "ru 83\n",
      "be 96\n",
      "kk 99\n",
      "bg 98\n",
      "mk 100\n",
      "ba 99\n",
      "sr 89\n",
      "tt 97\n",
      "tg 99\n",
      "sl 97\n",
      "af 97\n",
      "en 91\n",
      "fr 99\n",
      "la 99\n",
      "no 100\n",
      "pl 91\n",
      "pt 97\n",
      "es 94\n",
      "ca 97\n",
      "de 91\n"
     ]
    }
   ],
   "source": [
    "wiki_texts = {}\n",
    "for lang in languages:\n",
    "    wiki_texts[lang] = get_texts_for_lang(lang, 100)\n",
    "    print(lang, len(wiki_texts[lang]))"
   ]
  },
  {
   "cell_type": "markdown",
   "metadata": {},
   "source": [
    "Тестовая выборка"
   ]
  },
  {
   "cell_type": "code",
   "execution_count": 33,
   "metadata": {
    "collapsed": false
   },
   "outputs": [
    {
     "name": "stdout",
     "output_type": "stream",
     "text": [
      "el 48\n",
      "gom 50\n",
      "hy 48\n",
      "ja 48\n",
      "ko 46\n",
      "zh 50\n",
      "ps 50\n",
      "ru 48\n",
      "be 49\n",
      "kk 50\n",
      "bg 47\n",
      "mk 50\n",
      "ba 50\n",
      "sr 47\n",
      "tt 45\n",
      "tg 49\n",
      "sl 48\n",
      "af 49\n",
      "en 43\n",
      "fr 46\n",
      "la 50\n",
      "no 50\n",
      "pl 48\n",
      "pt 48\n",
      "es 46\n",
      "ca 49\n",
      "de 48\n"
     ]
    }
   ],
   "source": [
    "TEST = {}\n",
    "for lang in languages:\n",
    "    TEST[lang] = get_texts_for_lang(lang, 50)\n",
    "    print(lang, len(TEST[lang]))"
   ]
  },
  {
   "cell_type": "code",
   "execution_count": 9,
   "metadata": {
    "collapsed": true
   },
   "outputs": [],
   "source": [
    "import pickle as pkl"
   ]
  },
  {
   "cell_type": "code",
   "execution_count": 10,
   "metadata": {
    "collapsed": false
   },
   "outputs": [],
   "source": [
    "with open('wiki_27_100.pkl', 'wb') as f:\n",
    "    pkl.dump(wiki_texts, f)"
   ]
  },
  {
   "cell_type": "code",
   "execution_count": 51,
   "metadata": {
    "collapsed": true
   },
   "outputs": [],
   "source": [
    "with open('wiki_27_100.pkl', 'rb') as f:\n",
    "    wiki_texts = pkl.load(f)"
   ]
  },
  {
   "cell_type": "code",
   "execution_count": 34,
   "metadata": {
    "collapsed": true
   },
   "outputs": [],
   "source": [
    "with open('wiki_27_100_test.pkl', 'wb') as f:\n",
    "    pkl.dump(TEST, f)"
   ]
  },
  {
   "cell_type": "code",
   "execution_count": null,
   "metadata": {
    "collapsed": true
   },
   "outputs": [],
   "source": [
    "with open('wiki_27_100_test.pkl', 'rb') as f:\n",
    "    TEST = pkl.load(f)"
   ]
  },
  {
   "cell_type": "code",
   "execution_count": 15,
   "metadata": {
    "collapsed": true
   },
   "outputs": [],
   "source": [
    "from collections import defaultdict\n",
    "from string import punctuation, digits\n",
    "import codecs\n",
    "import collections\n",
    "import sys\n",
    "from sklearn.metrics import classification_report, confusion_matrix\n",
    "import seaborn as sns\n",
    "import matplotlib.pyplot as plt\n",
    "%matplotlib inline  "
   ]
  },
  {
   "cell_type": "markdown",
   "metadata": {},
   "source": [
    "## Первый способ: частотный словарь"
   ]
  },
  {
   "cell_type": "markdown",
   "metadata": {},
   "source": [
    "Токенизация. Выбираем численно-буквенные символы и пробелы, затем убираем цифры. Делим по пробелам"
   ]
  },
  {
   "cell_type": "code",
   "execution_count": 66,
   "metadata": {
    "collapsed": true
   },
   "outputs": [],
   "source": [
    "def tokenize(text):\n",
    "    text = re.sub(r'[^\\w\\s]','',text).replace('\\n', '')\n",
    "    text = re.sub(r'\\d','',text)\n",
    "    text = re.sub(r'[\\s]{2,}',' ',text)\n",
    "    return text.split(' ')"
   ]
  },
  {
   "cell_type": "markdown",
   "metadata": {},
   "source": [
    "** Частоты словоформ. **\n",
    "\n",
    "- считаем\n",
    "- печатаем размер обучающего корпуса по языкам\n",
    "- нормируем по частоте (0-1, очень маленькие числа, 1 - сумма в корпусе)\n",
    "- ограничиваем 500 самых частотных (экономия памяти, экономия времени, не очень потеря в качестве)\n",
    "\n",
    "\n",
    "Нет смысла исключать повторяющиеся элементы, так как учет частоты (ранга) решает эту проблему, к тому же, при принципиально разных языках (китайским и русским, например), дополнительные частоты в сумме добавляют надежности."
   ]
  },
  {
   "cell_type": "code",
   "execution_count": 162,
   "metadata": {
    "collapsed": false
   },
   "outputs": [
    {
     "name": "stdout",
     "output_type": "stream",
     "text": [
      "el\t29025\t9912\n",
      "gom\t49006\t14217\n",
      "hy\t21399\t8705\n",
      "ja\t3683\t3010\n",
      "ko\t43261\t19102\n",
      "zh\t4029\t3162\n",
      "ps\t20426\t5720\n",
      "ru\t40817\t15943\n",
      "be\t13609\t6419\n",
      "kk\t11031\t4775\n",
      "bg\t17825\t6878\n",
      "mk\t37599\t9347\n",
      "ba\t20179\t6961\n",
      "sr\t14262\t5399\n",
      "tt\t10252\t3680\n",
      "tg\t5560\t2076\n",
      "sl\t26005\t9859\n",
      "af\t36859\t7989\n",
      "en\t34895\t8049\n",
      "fr\t65172\t13326\n",
      "la\t18769\t6226\n",
      "no\t33584\t9271\n",
      "pl\t17712\t7945\n",
      "pt\t50298\t10893\n",
      "es\t38022\t9439\n",
      "ca\t27989\t7440\n",
      "de\t42865\t13087\n"
     ]
    }
   ],
   "source": [
    "total_freqs = collections.defaultdict(lambda: collections.defaultdict(lambda: 0))\n",
    "for lang in wiki_texts.keys():\n",
    "    for article in wiki_texts[lang]:\n",
    "        for word in tokenize(article.replace('\\n', '').lower()):\n",
    "            total_freqs[lang][word] += 1\n",
    "\n",
    "for lang in wiki_texts.keys():\n",
    "    print('{}\\t{}\\t{}'.format(lang, sum(total_freqs[lang].values()), len(total_freqs[lang])))\n",
    "\n",
    "            \n",
    "for lang in wiki_texts.keys():\n",
    "    summ = sum(total_freqs[lang].values())\n",
    "    for word in total_freqs[lang]:\n",
    "        total_freqs[lang][word] = total_freqs[lang][word]/summ\n",
    "\n",
    "for lang in wiki_texts.keys():\n",
    "    total_freqs[lang] = {i[0]:i[1] for i in collections.Counter(total_freqs[lang]).most_common(500)}"
   ]
  },
  {
   "cell_type": "markdown",
   "metadata": {},
   "source": [
    "Учтенные словоформы из корпуса. 500 словоформ покрывают 30-60%"
   ]
  },
  {
   "cell_type": "code",
   "execution_count": 170,
   "metadata": {
    "collapsed": false
   },
   "outputs": [
    {
     "name": "stdout",
     "output_type": "stream",
     "text": [
      "el\t 0.5223083548664905\n",
      "gom\t 0.4584744725135709\n",
      "hy\t 0.4412823029113512\n",
      "ja\t 0.31849036111865014\n",
      "ko\t 0.3824229675689466\n",
      "zh\t 0.3392901464383173\n",
      "ps\t 0.6204347400372033\n",
      "ru\t 0.40519881421956705\n",
      "be\t 0.4577852891468901\n",
      "kk\t 0.494062188378207\n",
      "bg\t 0.5248807854137418\n",
      "mk\t 0.5745099603712865\n",
      "ba\t 0.5440804797066289\n",
      "sr\t 0.5618426588136222\n",
      "tt\t 0.6094420600858413\n",
      "tg\t 0.6861510791366856\n",
      "sl\t 0.48621418957892387\n",
      "af\t 0.6563661520931117\n",
      "en\t 0.5936667144289988\n",
      "fr\t 0.5969588166697369\n",
      "la\t 0.5758964249560434\n",
      "no\t 0.5855764649833252\n",
      "pl\t 0.4504290876242133\n",
      "pt\t 0.5962463716251148\n",
      "es\t 0.5978906948608771\n",
      "ca\t 0.6095608989245718\n",
      "de\t 0.5369182316575264\n"
     ]
    }
   ],
   "source": [
    "for lang in wiki_texts.keys():\n",
    "    print(lang+'\\t',sum(total_freqs[lang].values()))"
   ]
  },
  {
   "cell_type": "code",
   "execution_count": 171,
   "metadata": {
    "collapsed": false,
    "scrolled": true
   },
   "outputs": [
    {
     "name": "stdout",
     "output_type": "stream",
     "text": [
      "0.014323270782340676\tжәне\n",
      "0.009518629317378298\tсу\n",
      "0.008430785966820778\tбойынша\n",
      "0.0066177137158915786\tдереккөздер\n",
      "0.006436406490798658\tмен\n"
     ]
    }
   ],
   "source": [
    "for word in sorted(total_freqs['kk'], key=lambda w: total_freqs['kk'][w], reverse=True)[:5]:\n",
    "    print('{}\\t{}'.format(total_freqs['kk'][word], word))"
   ]
  },
  {
   "cell_type": "code",
   "execution_count": 172,
   "metadata": {
    "collapsed": true
   },
   "outputs": [],
   "source": [
    "def predict_language_word(text, total_freqs):\n",
    "    text_words = tokenize(text)\n",
    "    variants = {}\n",
    "    \n",
    "    for lang in total_freqs.keys():\n",
    "        summ = 0\n",
    "        for word in text_words:\n",
    "            if word in total_freqs[lang]:\n",
    "                summ += total_freqs[lang][word]\n",
    "        variants[lang] = summ\n",
    "    \n",
    "    return max(variants, key=lambda x: variants[x])\n",
    "#     return lang2sim"
   ]
  },
  {
   "cell_type": "code",
   "execution_count": 173,
   "metadata": {
    "collapsed": true
   },
   "outputs": [],
   "source": [
    "def print_result(corpus, fnctn, source):\n",
    "    true_labels = []\n",
    "    predicted_labels = []\n",
    "\n",
    "    for lang in corpus.keys():\n",
    "        for text in corpus[lang]:\n",
    "            true_labels.append(lang)\n",
    "            predicted_labels.append(fnctn(text, source))\n",
    "    print(classification_report(true_labels, predicted_labels))\n",
    "\n",
    "    labels = list(set(true_labels))\n",
    "\n",
    "    fig, ax = plt.subplots(figsize=(10,5))\n",
    "    sns.heatmap(data=confusion_matrix(true_labels, predicted_labels, labels = labels), \n",
    "                annot=True, \n",
    "                fmt=\"d\", xticklabels=labels, yticklabels=labels, ax=ax)\n",
    "    plt.title(\"Confusion matrix\")\n",
    "    plt.show()"
   ]
  },
  {
   "cell_type": "code",
   "execution_count": 102,
   "metadata": {
    "collapsed": false
   },
   "outputs": [
    {
     "name": "stdout",
     "output_type": "stream",
     "text": [
      "             precision    recall  f1-score   support\n",
      "\n",
      "         af       0.75      1.00      0.86        97\n",
      "         ba       0.99      0.95      0.97        99\n",
      "         be       1.00      0.80      0.89        96\n",
      "         bg       0.65      0.99      0.78        98\n",
      "         ca       0.95      0.54      0.68        97\n",
      "         de       0.96      0.97      0.96        91\n",
      "         el       0.85      0.98      0.91        95\n",
      "         en       0.55      1.00      0.71        91\n",
      "         es       0.48      1.00      0.65        94\n",
      "         fr       0.89      0.79      0.83        99\n",
      "        gom       1.00      0.63      0.77       100\n",
      "         hy       1.00      0.96      0.98        93\n",
      "         ja       0.99      0.72      0.83        94\n",
      "         kk       1.00      0.93      0.96        99\n",
      "         ko       1.00      0.93      0.97        92\n",
      "         la       1.00      0.59      0.74        99\n",
      "         mk       0.97      0.97      0.97       100\n",
      "         no       0.97      0.95      0.96       100\n",
      "         pl       0.99      0.98      0.98        91\n",
      "         ps       1.00      0.94      0.97        99\n",
      "         pt       0.94      0.76      0.84        97\n",
      "         ru       1.00      0.49      0.66        83\n",
      "         sl       0.94      0.95      0.94        97\n",
      "         sr       0.94      0.93      0.94        89\n",
      "         tg       0.75      0.96      0.84        99\n",
      "         tt       1.00      0.95      0.97        97\n",
      "         zh       0.98      0.65      0.78        97\n",
      "\n",
      "avg / total       0.91      0.86      0.87      2583\n",
      "\n"
     ]
    },
    {
     "data": {
      "image/png": "[encoded data removed]",
      "text/plain": [
       "<matplotlib.figure.Figure at 0x217968a4358>"
      ]
     },
     "metadata": {},
     "output_type": "display_data"
    }
   ],
   "source": [
    "print_result(wiki_texts, predict_language_word, total_freqs)"
   ]
  },
  {
   "cell_type": "code",
   "execution_count": 103,
   "metadata": {
    "collapsed": false
   },
   "outputs": [
    {
     "name": "stdout",
     "output_type": "stream",
     "text": [
      "             precision    recall  f1-score   support\n",
      "\n",
      "         af       0.80      1.00      0.89        49\n",
      "         ba       0.96      0.96      0.96        50\n",
      "         be       1.00      0.80      0.89        49\n",
      "         bg       0.63      0.98      0.77        47\n",
      "         ca       1.00      0.53      0.69        49\n",
      "         de       0.98      0.94      0.96        48\n",
      "         el       0.83      1.00      0.91        48\n",
      "         en       0.45      1.00      0.62        43\n",
      "         es       0.49      1.00      0.66        46\n",
      "         fr       0.88      0.83      0.85        46\n",
      "        gom       1.00      0.62      0.77        50\n",
      "         hy       1.00      0.96      0.98        48\n",
      "         ja       0.97      0.65      0.78        48\n",
      "         kk       1.00      0.86      0.92        50\n",
      "         ko       1.00      0.93      0.97        46\n",
      "         la       1.00      0.58      0.73        50\n",
      "         mk       0.96      1.00      0.98        50\n",
      "         no       0.98      1.00      0.99        50\n",
      "         pl       1.00      1.00      1.00        48\n",
      "         ps       1.00      0.90      0.95        50\n",
      "         pt       0.92      0.75      0.83        48\n",
      "         ru       0.96      0.50      0.66        48\n",
      "         sl       0.94      0.94      0.94        48\n",
      "         sr       0.87      0.98      0.92        47\n",
      "         tg       0.73      0.96      0.83        49\n",
      "         tt       0.97      0.84      0.90        45\n",
      "         zh       1.00      0.52      0.68        50\n",
      "\n",
      "avg / total       0.90      0.85      0.85      1300\n",
      "\n"
     ]
    },
    {
     "data": {
      "image/png": "[encoded data removed]",
      "text/plain": [
       "<matplotlib.figure.Figure at 0x2179687ea20>"
      ]
     },
     "metadata": {},
     "output_type": "display_data"
    }
   ],
   "source": [
    "print_result(TEST, predict_language_word, total_freqs)"
   ]
  },
  {
   "cell_type": "markdown",
   "metadata": {},
   "source": [
    "## Второй способ: частотные символьные n-grams"
   ]
  },
  {
   "cell_type": "markdown",
   "metadata": {
    "collapsed": true
   },
   "source": [
    "### Триграммы"
   ]
  },
  {
   "cell_type": "code",
   "execution_count": 144,
   "metadata": {
    "collapsed": true
   },
   "outputs": [],
   "source": [
    "from itertools import islice, tee\n",
    "\n",
    "def make_ngrams(text):\n",
    "    N = 3 # задаем длину n-граммы\n",
    "    text = re.sub(r'[^\\w\\s]','',text).replace('\\n', '')\n",
    "    text = re.sub(r'\\d','',text)\n",
    "    text = re.sub(r'[\\s]{2,}',' ',text)\n",
    "    ngrams = zip(*(islice(seq, index, None) for index, seq in enumerate(tee(text, N))))\n",
    "    ngrams = [''.join(x) for x in ngrams]\n",
    "    return ngrams"
   ]
  },
  {
   "cell_type": "code",
   "execution_count": 145,
   "metadata": {
    "collapsed": false
   },
   "outputs": [
    {
     "name": "stdout",
     "output_type": "stream",
     "text": [
      "el\t197978\t13194\n",
      "gom\t250818\t16721\n",
      "hy\t170924\t12601\n",
      "ja\t160070\t84829\n",
      "ko\t176320\t55455\n",
      "zh\t179704\t131928\n",
      "ps\t98471\t9989\n",
      "ru\t295659\t12900\n",
      "be\t100096\t8653\n",
      "kk\t90705\t6150\n",
      "bg\t116765\t8841\n",
      "mk\t243708\t8608\n",
      "ba\t154370\t10426\n",
      "sr\t94013\t6789\n",
      "tt\t75935\t6723\n",
      "tg\t40933\t5226\n",
      "sl\t172665\t7020\n",
      "af\t227879\t6428\n",
      "en\t215040\t6291\n",
      "fr\t409807\t8178\n",
      "la\t133880\t5305\n",
      "no\t216285\t7152\n",
      "pl\t130860\t7943\n",
      "pt\t309141\t7433\n",
      "es\t239181\t7097\n",
      "ca\t167962\t6761\n",
      "de\t315642\t8961\n"
     ]
    }
   ],
   "source": [
    "total_ngrams = collections.defaultdict(lambda: collections.defaultdict(lambda: 0))\n",
    "\n",
    "for lang in wiki_texts.keys():\n",
    "    for article in wiki_texts[lang]:\n",
    "        for word in make_ngrams(article.replace('\\n', '').lower()):\n",
    "            total_ngrams[lang][word] += 1\n",
    "\n",
    "for lang in wiki_texts.keys():\n",
    "    print('{}\\t{}\\t{}'.format(lang, sum(total_ngrams[lang].values()), len(total_ngrams[lang])))\n",
    "\n",
    "for lang in wiki_texts.keys():\n",
    "    summ = sum(total_ngrams[lang].values())\n",
    "    for word in total_ngrams[lang]:\n",
    "        total_ngrams[lang][word] = total_ngrams[lang][word]/summ\n",
    "        \n",
    "for lang in wiki_texts.keys():\n",
    "    total_ngrams[lang] = {i[0]:i[1] for i in collections.Counter(total_ngrams[lang]).most_common(500)}"
   ]
  },
  {
   "cell_type": "markdown",
   "metadata": {},
   "source": [
    "Триграммы покрывают 50-60% корпуса. Это в среднем лучше, чем при словоформах. Однако здесь есть принципиальные \"провалы\": японский, корейский, китайский. Здесь значения очень низкие. Это связано с тем, что с этих языках отдельные графемы(?) более разнообразные и несут больше смысла. Их комбинаций во много раз больше (что видно из предыдущего вывода), поэтому значения доли 500 ниже."
   ]
  },
  {
   "cell_type": "code",
   "execution_count": 174,
   "metadata": {
    "collapsed": false
   },
   "outputs": [
    {
     "name": "stdout",
     "output_type": "stream",
     "text": [
      "el\t 0.49748456899251453\n",
      "gom\t 0.4160905517147887\n",
      "hy\t 0.5199386861997155\n",
      "ja\t 0.13693384144436788\n",
      "ko\t 0.2505614791288569\n",
      "zh\t 0.07581912478297625\n",
      "ps\t 0.5393669202100113\n",
      "ru\t 0.476934576657569\n",
      "be\t 0.4922074808184139\n",
      "kk\t 0.5929331348878237\n",
      "bg\t 0.543322057123282\n",
      "mk\t 0.6214773417368318\n",
      "ba\t 0.5252056746777226\n",
      "sr\t 0.5923755225341162\n",
      "tt\t 0.5772963718970173\n",
      "tg\t 0.5766496469840965\n",
      "sl\t 0.5745171285437132\n",
      "af\t 0.6637294353582391\n",
      "en\t 0.6062034970238104\n",
      "fr\t 0.6487468491265401\n",
      "la\t 0.6181953988646547\n",
      "no\t 0.6163719166840058\n",
      "pl\t 0.4984028732997093\n",
      "pt\t 0.653397640558839\n",
      "es\t 0.650427918605575\n",
      "ca\t 0.6340958073850043\n",
      "de\t 0.6157197077701958\n"
     ]
    }
   ],
   "source": [
    "for lang in wiki_texts.keys():\n",
    "    print(lang+'\\t',sum(total_ngrams[lang].values()))"
   ]
  },
  {
   "cell_type": "code",
   "execution_count": 176,
   "metadata": {
    "collapsed": false
   },
   "outputs": [
    {
     "name": "stdout",
     "output_type": "stream",
     "text": [
      "0.005468276280249159\t қа\n",
      "0.005280855520643846\tан \n",
      "0.004950113003693291\tың \n",
      "0.004872939749738162\tен \n",
      "0.004872939749738162\tды \n"
     ]
    }
   ],
   "source": [
    "for word in sorted(total_ngrams['kk'], key=lambda w: total_ngrams['kk'][w], reverse=True)[:5]:\n",
    "    print('{}\\t{}'.format(total_ngrams['kk'][word], word))"
   ]
  },
  {
   "cell_type": "code",
   "execution_count": 236,
   "metadata": {
    "collapsed": true
   },
   "outputs": [],
   "source": [
    "def predict_language_ngrams(text, a):\n",
    "    text_words = make_ngrams(text)\n",
    "    variants = {}\n",
    "    \n",
    "    for lang in a.keys():\n",
    "        summ = 0\n",
    "        for word in text_words:\n",
    "            if word in a[lang]:\n",
    "                summ += a[lang][word]\n",
    "        variants[lang] = summ\n",
    "    \n",
    "    return max(variants, key=lambda x: variants[x])\n",
    "#     return lang2sim"
   ]
  },
  {
   "cell_type": "code",
   "execution_count": 237,
   "metadata": {
    "collapsed": false
   },
   "outputs": [
    {
     "name": "stdout",
     "output_type": "stream",
     "text": [
      "             precision    recall  f1-score   support\n",
      "\n",
      "         af       0.88      1.00      0.94        97\n",
      "         ba       1.00      0.97      0.98        99\n",
      "         be       1.00      0.96      0.98        96\n",
      "         bg       0.85      0.83      0.84        98\n",
      "         ca       0.96      0.97      0.96        97\n",
      "         de       0.78      1.00      0.88        91\n",
      "         el       0.92      0.99      0.95        95\n",
      "         en       0.55      1.00      0.71        91\n",
      "         es       0.79      0.99      0.88        94\n",
      "         fr       0.89      0.99      0.94        99\n",
      "        gom       1.00      0.54      0.70       100\n",
      "         hy       1.00      0.99      0.99        93\n",
      "         ja       0.86      0.73      0.79        94\n",
      "         kk       1.00      1.00      1.00        99\n",
      "         ko       1.00      0.91      0.95        92\n",
      "         la       0.86      0.97      0.91        99\n",
      "         mk       0.72      1.00      0.84       100\n",
      "         no       0.92      0.96      0.94       100\n",
      "         pl       1.00      0.90      0.95        91\n",
      "         ps       1.00      0.96      0.98        99\n",
      "         pt       0.97      0.88      0.92        97\n",
      "         ru       0.98      0.65      0.78        83\n",
      "         sl       0.90      0.94      0.92        97\n",
      "         sr       1.00      0.91      0.95        89\n",
      "         tg       1.00      0.98      0.99        99\n",
      "         tt       0.99      0.99      0.99        97\n",
      "         zh       0.96      0.23      0.37        97\n",
      "\n",
      "avg / total       0.92      0.90      0.89      2583\n",
      "\n"
     ]
    },
    {
     "data": {
      "image/png": "[encoded data removed]",
      "text/plain": [
       "<matplotlib.figure.Figure at 0x217900385c0>"
      ]
     },
     "metadata": {},
     "output_type": "display_data"
    }
   ],
   "source": [
    "print_result(wiki_texts, predict_language_ngrams, total_ngrams)"
   ]
  },
  {
   "cell_type": "code",
   "execution_count": 150,
   "metadata": {
    "collapsed": false
   },
   "outputs": [
    {
     "name": "stdout",
     "output_type": "stream",
     "text": [
      "             precision    recall  f1-score   support\n",
      "\n",
      "         af       0.94      1.00      0.97        49\n",
      "         ba       1.00      0.98      0.99        50\n",
      "         be       1.00      0.98      0.99        49\n",
      "         bg       0.77      0.77      0.77        47\n",
      "         ca       0.94      0.94      0.94        49\n",
      "         de       0.83      1.00      0.91        48\n",
      "         el       0.96      1.00      0.98        48\n",
      "         en       0.49      1.00      0.66        43\n",
      "         es       0.82      1.00      0.90        46\n",
      "         fr       0.87      1.00      0.93        46\n",
      "        gom       1.00      0.48      0.65        50\n",
      "         hy       1.00      1.00      1.00        48\n",
      "         ja       0.81      0.54      0.65        48\n",
      "         kk       1.00      1.00      1.00        50\n",
      "         ko       1.00      0.91      0.95        46\n",
      "         la       0.84      0.94      0.89        50\n",
      "         mk       0.71      1.00      0.83        50\n",
      "         no       0.98      1.00      0.99        50\n",
      "         pl       1.00      0.98      0.99        48\n",
      "         ps       1.00      0.98      0.99        50\n",
      "         pt       0.86      0.92      0.89        48\n",
      "         ru       0.93      0.58      0.72        48\n",
      "         sl       0.88      0.90      0.89        48\n",
      "         sr       1.00      0.94      0.97        47\n",
      "         tg       1.00      0.98      0.99        49\n",
      "         tt       0.98      1.00      0.99        45\n",
      "         zh       1.00      0.26      0.41        50\n",
      "\n",
      "avg / total       0.91      0.89      0.88      1300\n",
      "\n"
     ]
    },
    {
     "data": {
      "image/png": "[encoded data removed]",
      "text/plain": [
       "<matplotlib.figure.Figure at 0x217919549b0>"
      ]
     },
     "metadata": {},
     "output_type": "display_data"
    }
   ],
   "source": [
    "print_result(TEST, predict_language_ngrams, total_ngrams)"
   ]
  },
  {
   "cell_type": "markdown",
   "metadata": {},
   "source": [
    "### Биграммы"
   ]
  },
  {
   "cell_type": "code",
   "execution_count": 151,
   "metadata": {
    "collapsed": false
   },
   "outputs": [
    {
     "name": "stdout",
     "output_type": "stream",
     "text": [
      "el\t198073\t1868\n",
      "gom\t250918\t2484\n",
      "hy\t171017\t2163\n",
      "ja\t160164\t36018\n",
      "ko\t176412\t18794\n",
      "zh\t179801\t76661\n",
      "ps\t98570\t1813\n",
      "ru\t295742\t1858\n",
      "be\t100192\t1492\n",
      "kk\t90804\t1228\n",
      "bg\t116863\t1444\n",
      "mk\t243808\t1360\n",
      "ba\t154469\t1773\n",
      "sr\t94102\t1096\n",
      "tt\t76032\t1322\n",
      "tg\t41032\t1191\n",
      "sl\t172762\t1143\n",
      "af\t227976\t983\n",
      "en\t215131\t946\n",
      "fr\t409906\t1256\n",
      "la\t133979\t822\n",
      "no\t216385\t1065\n",
      "pl\t130951\t1163\n",
      "pt\t309238\t1038\n",
      "es\t239275\t1086\n",
      "ca\t168059\t1061\n",
      "de\t315733\t1241\n"
     ]
    }
   ],
   "source": [
    "def make_bigrams(text):\n",
    "    N = 2 # задаем длину n-граммы\n",
    "    text = re.sub(r'[^\\w\\s]','',text).replace('\\n', '')\n",
    "    text = re.sub(r'\\d','',text)\n",
    "    text = re.sub(r'[\\s]{2,}',' ',text)\n",
    "    ngrams = zip(*(islice(seq, index, None) for index, seq in enumerate(tee(text, N))))\n",
    "    ngrams = [''.join(x) for x in ngrams]\n",
    "    return ngrams\n",
    "\n",
    "total_bigrams = collections.defaultdict(lambda: collections.defaultdict(lambda: 0))\n",
    "\n",
    "for lang in wiki_texts.keys():\n",
    "    for article in wiki_texts[lang]:\n",
    "        for word in make_bigrams(article.replace('\\n', '').lower()):\n",
    "            total_bigrams[lang][word] += 1\n",
    "\n",
    "for lang in wiki_texts.keys():\n",
    "    print('{}\\t{}\\t{}'.format(lang, sum(total_bigrams[lang].values()), len(total_bigrams[lang])))\n",
    "\n",
    "for lang in wiki_texts.keys():\n",
    "    summ = sum(total_bigrams[lang].values())\n",
    "    for word in total_bigrams[lang]:\n",
    "        total_bigrams[lang][word] = total_bigrams[lang][word]/summ\n",
    "\n",
    "for lang in wiki_texts.keys():\n",
    "    total_bigrams[lang] = {i[0]:i[1] for i in collections.Counter(total_bigrams[lang]).most_common(500)}"
   ]
  },
  {
   "cell_type": "markdown",
   "metadata": {},
   "source": [
    "500 биграмм покрывают большее (или почти всё в алфавитных языках) множество комбинаций. С иероглифами остается та же проблема, что и с триграммами."
   ]
  },
  {
   "cell_type": "code",
   "execution_count": 180,
   "metadata": {
    "collapsed": false
   },
   "outputs": [
    {
     "name": "stdout",
     "output_type": "stream",
     "text": [
      "el\t 0.912532248211518\n",
      "gom\t 0.8775615938274652\n",
      "hy\t 0.8985714870451482\n",
      "ja\t 0.30879598411628084\n",
      "ko\t 0.5525134344602407\n",
      "zh\t 0.179259292217507\n",
      "ps\t 0.9165466166176321\n",
      "ru\t 0.9462741173049485\n",
      "be\t 0.9483092462472045\n",
      "kk\t 0.970871327254305\n",
      "bg\t 0.9517811454438103\n",
      "mk\t 0.9753781664260399\n",
      "ba\t 0.9380328739099758\n",
      "sr\t 0.972678582814394\n",
      "tt\t 0.9560974326599366\n",
      "tg\t 0.9510382140768201\n",
      "sl\t 0.9918905777890967\n",
      "af\t 0.9956442783450876\n",
      "en\t 0.9966764436552632\n",
      "fr\t 0.9923128717315692\n",
      "la\t 0.9968278610827079\n",
      "no\t 0.9930540471844166\n",
      "pl\t 0.9771823048315791\n",
      "pt\t 0.9906350448521856\n",
      "es\t 0.9916121617385849\n",
      "ca\t 0.9886706454280934\n",
      "de\t 0.9885726230707595\n"
     ]
    }
   ],
   "source": [
    "for lang in wiki_texts.keys():\n",
    "    print(lang+'\\t',sum(total_bigrams[lang].values()))"
   ]
  },
  {
   "cell_type": "code",
   "execution_count": 152,
   "metadata": {
    "collapsed": true
   },
   "outputs": [],
   "source": [
    "def predict_language_bigrams(text, total_bigrams):\n",
    "    text_words = make_bigrams(text)\n",
    "    variants = {}\n",
    "    \n",
    "    for lang in total_ngrams.keys():\n",
    "        summ = 0\n",
    "        for word in text_words:\n",
    "            if word in total_bigrams[lang]:\n",
    "                summ += total_bigrams[lang][word]\n",
    "        variants[lang] = summ\n",
    "    \n",
    "    return max(variants, key=lambda x: variants[x])"
   ]
  },
  {
   "cell_type": "code",
   "execution_count": 153,
   "metadata": {
    "collapsed": false
   },
   "outputs": [
    {
     "name": "stdout",
     "output_type": "stream",
     "text": [
      "             precision    recall  f1-score   support\n",
      "\n",
      "         af       0.71      0.99      0.83        97\n",
      "         ba       1.00      0.87      0.93        99\n",
      "         be       1.00      0.97      0.98        96\n",
      "         bg       0.50      0.04      0.08        98\n",
      "         ca       0.80      0.97      0.87        97\n",
      "         de       0.80      0.97      0.88        91\n",
      "         el       0.98      0.98      0.98        95\n",
      "         en       0.62      0.89      0.73        91\n",
      "         es       0.82      0.97      0.89        94\n",
      "         fr       0.78      0.98      0.87        99\n",
      "        gom       1.00      0.57      0.73       100\n",
      "         hy       1.00      0.99      0.99        93\n",
      "         ja       1.00      0.64      0.78        94\n",
      "         kk       0.99      1.00      0.99        99\n",
      "         ko       1.00      0.92      0.96        92\n",
      "         la       0.84      0.85      0.84        99\n",
      "         mk       0.34      1.00      0.51       100\n",
      "         no       0.94      0.95      0.95       100\n",
      "         pl       1.00      0.84      0.91        91\n",
      "         ps       1.00      0.98      0.99        99\n",
      "         pt       0.84      0.98      0.90        97\n",
      "         ru       1.00      0.02      0.05        83\n",
      "         sl       0.92      0.91      0.91        97\n",
      "         sr       1.00      0.76      0.87        89\n",
      "         tg       1.00      0.98      0.99        99\n",
      "         tt       0.93      0.98      0.95        97\n",
      "         zh       1.00      0.32      0.48        97\n",
      "\n",
      "avg / total       0.88      0.83      0.81      2583\n",
      "\n"
     ]
    },
    {
     "data": {
      "image/png": "[encoded data removed]",
      "text/plain": [
       "<matplotlib.figure.Figure at 0x21794be4a90>"
      ]
     },
     "metadata": {},
     "output_type": "display_data"
    }
   ],
   "source": [
    "print_result(wiki_texts, predict_language_bigrams, total_bigrams)"
   ]
  },
  {
   "cell_type": "code",
   "execution_count": 154,
   "metadata": {
    "collapsed": false
   },
   "outputs": [
    {
     "name": "stdout",
     "output_type": "stream",
     "text": [
      "             precision    recall  f1-score   support\n",
      "\n",
      "         af       0.79      1.00      0.88        49\n",
      "         ba       1.00      0.86      0.92        50\n",
      "         be       1.00      0.94      0.97        49\n",
      "         bg       1.00      0.09      0.16        47\n",
      "         ca       0.71      1.00      0.83        49\n",
      "         de       0.86      1.00      0.92        48\n",
      "         el       1.00      1.00      1.00        48\n",
      "         en       0.60      0.93      0.73        43\n",
      "         es       0.87      0.98      0.92        46\n",
      "         fr       0.72      1.00      0.84        46\n",
      "        gom       1.00      0.48      0.65        50\n",
      "         hy       1.00      1.00      1.00        48\n",
      "         ja       1.00      0.48      0.65        48\n",
      "         kk       1.00      0.98      0.99        50\n",
      "         ko       1.00      0.91      0.95        46\n",
      "         la       0.85      0.78      0.81        50\n",
      "         mk       0.32      1.00      0.49        50\n",
      "         no       0.94      0.96      0.95        50\n",
      "         pl       1.00      0.85      0.92        48\n",
      "         ps       1.00      1.00      1.00        50\n",
      "         pt       0.81      0.98      0.89        48\n",
      "         ru       0.00      0.00      0.00        48\n",
      "         sl       0.88      0.90      0.89        48\n",
      "         sr       0.97      0.77      0.86        47\n",
      "         tg       1.00      1.00      1.00        49\n",
      "         tt       0.88      1.00      0.94        45\n",
      "         zh       1.00      0.34      0.51        50\n",
      "\n",
      "avg / total       0.86      0.82      0.80      1300\n",
      "\n"
     ]
    },
    {
     "data": {
      "image/png": "[encoded data removed]",
      "text/plain": [
       "<matplotlib.figure.Figure at 0x2178c82c748>"
      ]
     },
     "metadata": {},
     "output_type": "display_data"
    }
   ],
   "source": [
    "print_result(TEST, predict_language_bigrams, total_bigrams)"
   ]
  },
  {
   "cell_type": "markdown",
   "metadata": {},
   "source": [
    "# Выводы"
   ]
  },
  {
   "cell_type": "markdown",
   "metadata": {},
   "source": [
    "## Сравнение методов"
   ]
  },
  {
   "cell_type": "markdown",
   "metadata": {},
   "source": [
    "Отбор 500 самых частотных значений по всем методам"
   ]
  },
  {
   "cell_type": "markdown",
   "metadata": {},
   "source": [
    "precision\n",
    "\n",
    "recall\n",
    "\n",
    "f1-score   "
   ]
  },
  {
   "cell_type": "markdown",
   "metadata": {},
   "source": [
    "** словоформы **\n",
    "\n",
    "Train\n",
    "0.91      0.86      0.87 \n",
    "\n",
    "\n",
    "Test\n",
    "0.90      0.85      0.85\n",
    "\n",
    "** триграммы **\n",
    "\n",
    "Train\n",
    "0.92      0.90      0.89\n",
    "\n",
    "Test\n",
    "0.91      0.89      0.88\n",
    "\n",
    "\n",
    "** биграммы **\n",
    "\n",
    "Train\n",
    "0.88      0.83      0.81 \n",
    "\n",
    "\n",
    "Test\n",
    "0.86      0.82      0.80"
   ]
  },
  {
   "cell_type": "markdown",
   "metadata": {},
   "source": [
    "Лучше работает метод триграмм, так как они более тонко, чем биграммы оценивают текст. Биграммы хуже словоформ."
   ]
  },
  {
   "cell_type": "markdown",
   "metadata": {},
   "source": [
    "## Проблемные места"
   ]
  },
  {
   "cell_type": "code",
   "execution_count": 182,
   "metadata": {
    "collapsed": false
   },
   "outputs": [
    {
     "name": "stdout",
     "output_type": "stream",
     "text": [
      "             precision    recall  f1-score   support\n",
      "\n",
      "         af       0.79      1.00      0.88        97\n",
      "         bg       0.70      0.99      0.82        98\n",
      "         ca       0.96      0.54      0.69        97\n",
      "         de       0.00      0.00      0.00         0\n",
      "         el       0.00      0.00      0.00         0\n",
      "         en       0.60      1.00      0.75        91\n",
      "         es       0.50      1.00      0.67        94\n",
      "         fr       0.90      0.79      0.84        99\n",
      "        gom       1.00      0.63      0.77       100\n",
      "         ja       0.99      0.72      0.83        94\n",
      "         la       1.00      0.59      0.74        99\n",
      "         no       0.00      0.00      0.00         0\n",
      "         pl       0.00      0.00      0.00         0\n",
      "         pt       0.96      0.76      0.85        97\n",
      "         ru       1.00      0.49      0.66        83\n",
      "         tg       0.00      0.00      0.00         0\n",
      "         zh       0.98      0.65      0.78        97\n",
      "\n",
      "avg / total       0.87      0.76      0.78      1146\n",
      "\n"
     ]
    },
    {
     "data": {
      "image/png": "[encoded data removed]",
      "text/plain": [
       "<matplotlib.figure.Figure at 0x21791ec3ac8>"
      ]
     },
     "metadata": {},
     "output_type": "display_data"
    }
   ],
   "source": [
    "hard = ['zh','la','ca','ru','pt','fr','gom','bg','af','es','ja', 'en']\n",
    "hard = {lang: wiki_texts[lang]for lang in hard}\n",
    "print_result(hard, predict_language_word, total_freqs)"
   ]
  },
  {
   "cell_type": "code",
   "execution_count": 183,
   "metadata": {
    "collapsed": false
   },
   "outputs": [
    {
     "name": "stdout",
     "output_type": "stream",
     "text": [
      "             precision    recall  f1-score   support\n",
      "\n",
      "         af       0.00      0.00      0.00         0\n",
      "         bg       0.88      0.83      0.85        98\n",
      "         ca       0.00      0.00      0.00         0\n",
      "         de       0.81      1.00      0.90        91\n",
      "         el       0.00      0.00      0.00         0\n",
      "         en       0.00      0.00      0.00         0\n",
      "         es       0.84      0.99      0.91        94\n",
      "         fr       0.92      0.99      0.95        99\n",
      "        gom       1.00      0.54      0.70       100\n",
      "         ja       0.86      0.73      0.79        94\n",
      "         la       0.00      0.00      0.00         0\n",
      "         mk       0.00      0.00      0.00         0\n",
      "         no       0.00      0.00      0.00         0\n",
      "         pt       0.98      0.88      0.92        97\n",
      "         ru       1.00      0.65      0.79        83\n",
      "         sl       0.00      0.00      0.00         0\n",
      "         zh       0.96      0.23      0.37        97\n",
      "\n",
      "avg / total       0.92      0.76      0.80       853\n",
      "\n"
     ]
    },
    {
     "data": {
      "image/png": "[encoded data removed]",
      "text/plain": [
       "<matplotlib.figure.Figure at 0x21794bea7f0>"
      ]
     },
     "metadata": {},
     "output_type": "display_data"
    }
   ],
   "source": [
    "hard = ['zh','ru','bg','ja','gom','pt','fr',\n",
    "        'es','de']\n",
    "hard = {lang: wiki_texts[lang]for lang in hard}\n",
    "print_result(hard, predict_language_ngrams, total_ngrams)"
   ]
  },
  {
   "cell_type": "code",
   "execution_count": 161,
   "metadata": {
    "collapsed": false
   },
   "outputs": [
    {
     "name": "stdout",
     "output_type": "stream",
     "text": [
      "0.0035428056573656433\t天津\n",
      "0.002591754217162307\t現今\n",
      "0.002552822286861586\t年現\n",
      "0.0020133369669801614\tre\n",
      "0.0020077752626514868\t年月\n",
      "0.0015072218730707838\t海軍\n",
      "0.0014182346038119921\t月日\n",
      "0.0013793026735112708\t睡眠\n",
      "0.0013514941518678984\tin\n",
      "0.001345932447539224\t今 \n"
     ]
    }
   ],
   "source": [
    "for word in sorted(total_bigrams['zh'], key=lambda w: total_bigrams['zh'][w], reverse=True)[:10]:\n",
    "    print('{}\\t{}'.format(total_bigrams['zh'][word], word))"
   ]
  },
  {
   "cell_type": "code",
   "execution_count": 160,
   "metadata": {
    "collapsed": false
   },
   "outputs": [
    {
     "name": "stdout",
     "output_type": "stream",
     "text": [
      "0.01340282948622487\tof\n",
      "0.010672623479771656\tthe\n",
      "0.010424422933730455\tand\n",
      "0.008687019111442046\t\n",
      "0.007446016381236039\t外部連結\n",
      "0.005956813104988831\t参考文献\n",
      "0.005460412012906428\tx\n",
      "0.0052122114668652275\tin\n",
      "0.004467609828741623\t參考資料\n",
      "0.004219409282700422\t外部链接\n"
     ]
    }
   ],
   "source": [
    "for word in sorted(total_freqs['zh'], key=lambda w: total_freqs['zh'][w], reverse=True)[:10]:\n",
    "    print('{}\\t{}'.format(total_freqs['zh'][word], word))"
   ]
  },
  {
   "cell_type": "code",
   "execution_count": 202,
   "metadata": {
    "collapsed": false
   },
   "outputs": [
    {
     "name": "stdout",
     "output_type": "stream",
     "text": [
      "0.06049577303338587\tthe\n",
      "0.03372976071070354\tof\n",
      "0.02885800257916607\tin\n",
      "0.028284854563691075\tand\n",
      "0.02238143000429861\ta\n",
      "0.021435735778764866\tto\n",
      "0.012007450924201175\tis\n",
      "0.009886803266943689\twas\n",
      "0.00934231265224244\tas\n",
      "0.009256340449921192\ton\n"
     ]
    }
   ],
   "source": [
    "for word in sorted(total_freqs['en'], key=lambda w: total_freqs['en'][w], reverse=True)[:10]:\n",
    "    print('{}\\t{}'.format(total_freqs['en'][word], word))"
   ]
  },
  {
   "cell_type": "markdown",
   "metadata": {},
   "source": [
    "Это может быть проблемой выборки или особенностью текстов в целом, но, например, в китайских текстах много англиских вставок, что приводит к неожиданной ошибке определения языка. Как уже было сказано выше, в иероглифических языках довольно сложно работать в рамках триграмм в силу разнообразия, поэтому ОЧЕНЬ частотные вставки из английского (с артиклями и подобными) сильно смещает результат."
   ]
  },
  {
   "cell_type": "markdown",
   "metadata": {},
   "source": [
    "### Решение"
   ]
  },
  {
   "cell_type": "code",
   "execution_count": 206,
   "metadata": {
    "collapsed": false
   },
   "outputs": [],
   "source": [
    "NGRAMS = collections.defaultdict(lambda: collections.defaultdict(lambda: 0))\n",
    "\n",
    "for lang in wiki_texts.keys():\n",
    "    summ = sum(total_ngrams[lang].values())\n",
    "    for word in total_ngrams[lang]:\n",
    "        NGRAMS[lang][word] = total_ngrams[lang][word]/summ"
   ]
  },
  {
   "cell_type": "code",
   "execution_count": 208,
   "metadata": {
    "collapsed": false
   },
   "outputs": [
    {
     "name": "stdout",
     "output_type": "stream",
     "text": [
      "0.033688073394495505\t年現今\n",
      "0.017614678899082612\t現今 \n",
      "0.014752293577981688\t年月日\n",
      "0.014678899082568846\trem\n",
      "0.01181651376146792\tem睡\n",
      "0.01181651376146792\tm睡眠\n",
      "0.011376146788990855\t伐利亚\n",
      "0.011302752293578012\t總統 \n",
      "0.011229357798165166\t巴伐利\n",
      "0.011009174311926634\t現今總\n"
     ]
    }
   ],
   "source": [
    "for word in sorted(NGRAMS['zh'], key=lambda w: NGRAMS['zh'][w], reverse=True)[:10]:\n",
    "    print('{}\\t{}'.format(NGRAMS['zh'][word], word))"
   ]
  },
  {
   "cell_type": "code",
   "execution_count": 209,
   "metadata": {
    "collapsed": false
   },
   "outputs": [
    {
     "name": "stdout",
     "output_type": "stream",
     "text": [
      "0.02266834409855932\t th\n",
      "0.020228908083892022\tthe\n",
      "0.019193298455023832\the \n",
      "0.01166019730281224\ted \n",
      "0.011598827843323754\t in\n",
      "0.010409794565734348\t an\n",
      "0.010087604903419799\tand\n",
      "0.010010893079059193\tnd \n",
      "0.009512266220715248\tin \n",
      "0.009458567943662823\t of\n"
     ]
    }
   ],
   "source": [
    "for word in sorted(NGRAMS['en'], key=lambda w: NGRAMS['en'][w], reverse=True)[:10]:\n",
    "    print('{}\\t{}'.format(NGRAMS['en'][word], word))"
   ]
  },
  {
   "cell_type": "code",
   "execution_count": 238,
   "metadata": {
    "collapsed": false
   },
   "outputs": [
    {
     "name": "stdout",
     "output_type": "stream",
     "text": [
      "             precision    recall  f1-score   support\n",
      "\n",
      "         af       0.94      1.00      0.97        49\n",
      "         ba       1.00      1.00      1.00        50\n",
      "         be       1.00      1.00      1.00        49\n",
      "         bg       0.90      1.00      0.95        47\n",
      "         ca       0.96      0.94      0.95        49\n",
      "         de       0.86      1.00      0.92        48\n",
      "         el       0.96      1.00      0.98        48\n",
      "         en       0.56      1.00      0.72        43\n",
      "         es       0.82      1.00      0.90        46\n",
      "         fr       0.92      1.00      0.96        46\n",
      "        gom       1.00      0.56      0.72        50\n",
      "         hy       1.00      1.00      1.00        48\n",
      "         ja       1.00      0.77      0.87        48\n",
      "         kk       1.00      1.00      1.00        50\n",
      "         ko       1.00      0.93      0.97        46\n",
      "         la       0.92      0.94      0.93        50\n",
      "         mk       0.98      1.00      0.99        50\n",
      "         no       0.98      1.00      0.99        50\n",
      "         pl       1.00      1.00      1.00        48\n",
      "         ps       1.00      0.98      0.99        50\n",
      "         pt       0.91      0.90      0.91        48\n",
      "         ru       0.95      0.85      0.90        48\n",
      "         sl       0.91      0.90      0.91        48\n",
      "         sr       1.00      0.96      0.98        47\n",
      "         tg       1.00      0.98      0.99        49\n",
      "         tt       1.00      1.00      1.00        45\n",
      "         zh       1.00      0.58      0.73        50\n",
      "\n",
      "avg / total       0.95      0.94      0.93      1300\n",
      "\n"
     ]
    },
    {
     "data": {
      "image/png": "[encoded data removed]",
      "text/plain": [
       "<matplotlib.figure.Figure at 0x2179409b470>"
      ]
     },
     "metadata": {},
     "output_type": "display_data"
    }
   ],
   "source": [
    "print_result(TEST, predict_language_ngrams, NGRAMS)"
   ]
  },
  {
   "cell_type": "markdown",
   "metadata": {},
   "source": [
    "Это заметно улучшает результат. Можно считать это лучшим решением. Это простейшая нормализация, можно подумать над более оптимальной (например, с учетом квадр. отклонения)"
   ]
  },
  {
   "cell_type": "markdown",
   "metadata": {},
   "source": [
    "# Функция с вероятностью"
   ]
  },
  {
   "cell_type": "code",
   "execution_count": 229,
   "metadata": {
    "collapsed": true
   },
   "outputs": [],
   "source": [
    "def predict_proba(text, NGRAMS):\n",
    "    text_words = make_ngrams(text)\n",
    "    variants = {}\n",
    "    \n",
    "    for lang in NGRAMS.keys():\n",
    "        summ = 0\n",
    "        for word in text_words:\n",
    "            if word in NGRAMS[lang]:\n",
    "                summ += NGRAMS[lang][word]\n",
    "        variants[lang] = summ\n",
    "    summ = sum(variants.values())\n",
    "    \n",
    "    for lang in NGRAMS.keys():\n",
    "        variants[lang] = variants[lang]/summ\n",
    "        \n",
    "    return [(lang, variants[lang]) for lang in sorted(variants, key=variants.get, reverse=True)]\n",
    "#     return lang2sim"
   ]
  },
  {
   "cell_type": "code",
   "execution_count": 243,
   "metadata": {
    "collapsed": false
   },
   "outputs": [
    {
     "data": {
      "text/plain": [
       "[('zh', 0.21041140263917066),\n",
       " ('en', 0.14400866047599212),\n",
       " ('fr', 0.06875295561174423),\n",
       " ('la', 0.06665244097242079),\n",
       " ('ca', 0.05720827240258246),\n",
       " ('de', 0.055624753355813794),\n",
       " ('es', 0.055046019142953796),\n",
       " ('no', 0.05197743907449311),\n",
       " ('af', 0.051253207543763286),\n",
       " ('ja', 0.04950851697105822),\n",
       " ('pt', 0.04768010684127092),\n",
       " ('sl', 0.04595225689970815),\n",
       " ('gom', 0.03197305593421519),\n",
       " ('pl', 0.028279575919770004),\n",
       " ('ko', 0.014383334938388075),\n",
       " ('hy', 0.007207095373102321),\n",
       " ('tg', 0.005459112646000862),\n",
       " ('el', 0.005318756016885596),\n",
       " ('ps', 0.002457849426703132),\n",
       " ('bg', 0.0005310142825152016),\n",
       " ('mk', 0.0003141735314479749),\n",
       " ('ru', 0.0),\n",
       " ('be', 0.0),\n",
       " ('kk', 0.0),\n",
       " ('ba', 0.0),\n",
       " ('sr', 0.0),\n",
       " ('tt', 0.0)]"
      ]
     },
     "execution_count": 243,
     "metadata": {},
     "output_type": "execute_result"
    }
   ],
   "source": [
    "predict_proba(wiki_texts['zh'][5], NGRAMS)"
   ]
  },
  {
   "cell_type": "markdown",
   "metadata": {},
   "source": [
    "А греческий очень хорошо определяется"
   ]
  },
  {
   "cell_type": "code",
   "execution_count": 244,
   "metadata": {
    "collapsed": false
   },
   "outputs": [
    {
     "data": {
      "text/plain": [
       "[('el', 0.9632181721144949),\n",
       " ('no', 0.005292215521104215),\n",
       " ('de', 0.005274712325737782)]"
      ]
     },
     "execution_count": 244,
     "metadata": {},
     "output_type": "execute_result"
    }
   ],
   "source": [
    "predict_proba(wiki_texts['el'][0], NGRAMS) [:3]"
   ]
  },
  {
   "cell_type": "markdown",
   "metadata": {},
   "source": [
    "Видно и сходство романских языков:"
   ]
  },
  {
   "cell_type": "code",
   "execution_count": 245,
   "metadata": {
    "collapsed": false
   },
   "outputs": [
    {
     "data": {
      "text/plain": [
       "[('es', 0.17942920773204832),\n",
       " ('ca', 0.14550838598121021),\n",
       " ('pt', 0.13607180251885673),\n",
       " ('fr', 0.1135026134131171)]"
      ]
     },
     "execution_count": 245,
     "metadata": {},
     "output_type": "execute_result"
    }
   ],
   "source": [
    "predict_proba(wiki_texts['es'][8], NGRAMS)[:4]"
   ]
  }
 ],
 "metadata": {
  "kernelspec": {
   "display_name": "Python 3",
   "language": "python",
   "name": "python3"
  },
  "language_info": {
   "codemirror_mode": {
    "name": "ipython",
    "version": 3
   },
   "file_extension": ".py",
   "mimetype": "text/x-python",
   "name": "python",
   "nbconvert_exporter": "python",
   "pygments_lexer": "ipython3",
   "version": "3.6.5"
  }
 },
 "nbformat": 4,
 "nbformat_minor": 2
}
