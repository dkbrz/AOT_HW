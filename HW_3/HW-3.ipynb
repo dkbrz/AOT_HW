{
 "cells": [
  {
   "cell_type": "markdown",
   "metadata": {},
   "source": [
    "# HW-3"
   ]
  },
  {
   "cell_type": "code",
   "execution_count": 51,
   "metadata": {
    "collapsed": true
   },
   "outputs": [],
   "source": [
    "import wikipedia\n",
    "import warnings\n",
    "warnings.filterwarnings(\"ignore\")\n",
    "import re"
   ]
  },
  {
   "cell_type": "code",
   "execution_count": 2,
   "metadata": {
    "collapsed": true
   },
   "outputs": [],
   "source": [
    "? wikipedia"
   ]
  },
  {
   "cell_type": "code",
   "execution_count": 183,
   "metadata": {
    "collapsed": false
   },
   "outputs": [],
   "source": [
    "#wikipedia.languages()"
   ]
  },
  {
   "cell_type": "code",
   "execution_count": 184,
   "metadata": {
    "collapsed": false
   },
   "outputs": [
    {
     "data": {
      "text/plain": [
       "dict_keys(['aa', 'ab', 'ace', 'ady', 'ady-cyrl', 'aeb', 'aeb-arab', 'aeb-latn', 'af', 'ak', 'aln', 'als', 'am', 'an', 'ang', 'anp', 'ar', 'arc', 'arn', 'arq', 'ary', 'arz', 'as', 'ase', 'ast', 'atj', 'av', 'avk', 'awa', 'ay', 'az', 'azb', 'ba', 'ban', 'bar', 'bat-smg', 'bbc', 'bbc-latn', 'bcc', 'bcl', 'be', 'be-tarask', 'be-x-old', 'bg', 'bgn', 'bh', 'bho', 'bi', 'bjn', 'bm', 'bn', 'bo', 'bpy', 'bqi', 'br', 'brh', 'bs', 'bto', 'bug', 'bxr', 'ca', 'cbk-zam', 'cdo', 'ce', 'ceb', 'ch', 'cho', 'chr', 'chy', 'ckb', 'co', 'cps', 'cr', 'crh', 'crh-cyrl', 'crh-latn', 'cs', 'csb', 'cu', 'cv', 'cy', 'da', 'de', 'de-at', 'de-ch', 'de-formal', 'din', 'diq', 'dsb', 'dtp', 'dty', 'dv', 'dz', 'ee', 'egl', 'el', 'eml', 'en', 'en-ca', 'en-gb', 'eo', 'es', 'es-formal', 'et', 'eu', 'ext', 'fa', 'ff', 'fi', 'fit', 'fiu-vro', 'fj', 'fo', 'fr', 'frc', 'frp', 'frr', 'fur', 'fy', 'ga', 'gag', 'gan', 'gan-hans', 'gan-hant', 'gcr', 'gd', 'gl', 'glk', 'gn', 'gom', 'gom-deva', 'gom-latn', 'gor', 'got', 'grc', 'gsw', 'gu', 'gv', 'ha', 'hak', 'haw', 'he', 'hi', 'hif', 'hif-latn', 'hil', 'ho', 'hr', 'hrx', 'hsb', 'ht', 'hu', 'hu-formal', 'hy', 'hz', 'ia', 'id', 'ie', 'ig', 'ii', 'ik', 'ike-cans', 'ike-latn', 'ilo', 'inh', 'io', 'is', 'it', 'iu', 'ja', 'jam', 'jbo', 'jut', 'jv', 'ka', 'kaa', 'kab', 'kbd', 'kbd-cyrl', 'kbp', 'kg', 'khw', 'ki', 'kiu', 'kj', 'kk', 'kk-arab', 'kk-cn', 'kk-cyrl', 'kk-kz', 'kk-latn', 'kk-tr', 'kl', 'km', 'kn', 'ko', 'ko-kp', 'koi', 'kr', 'krc', 'kri', 'krj', 'krl', 'ks', 'ks-arab', 'ks-deva', 'ksh', 'ku', 'ku-arab', 'ku-latn', 'kum', 'kv', 'kw', 'ky', 'la', 'lad', 'lb', 'lbe', 'lez', 'lfn', 'lg', 'li', 'lij', 'liv', 'lki', 'lmo', 'ln', 'lo', 'loz', 'lrc', 'lt', 'ltg', 'lus', 'luz', 'lv', 'lzh', 'lzz', 'mai', 'map-bms', 'mdf', 'mg', 'mh', 'mhr', 'mi', 'min', 'mk', 'ml', 'mn', 'mo', 'mr', 'mrj', 'ms', 'mt', 'mus', 'mwl', 'my', 'myv', 'mzn', 'na', 'nah', 'nan', 'nap', 'nb', 'nds', 'nds-nl', 'ne', 'new', 'ng', 'niu', 'nl', 'nl-informal', 'nn', 'no', 'nov', 'nrm', 'nso', 'nv', 'ny', 'nys', 'oc', 'olo', 'om', 'or', 'os', 'pa', 'pag', 'pam', 'pap', 'pcd', 'pdc', 'pdt', 'pfl', 'pi', 'pih', 'pl', 'pms', 'pnb', 'pnt', 'prg', 'ps', 'pt', 'pt-br', 'qu', 'qug', 'rgn', 'rif', 'rm', 'rmy', 'rn', 'ro', 'roa-rup', 'roa-tara', 'ru', 'rue', 'rup', 'ruq', 'ruq-cyrl', 'ruq-latn', 'rw', 'sa', 'sah', 'sat', 'sc', 'scn', 'sco', 'sd', 'sdc', 'sdh', 'se', 'sei', 'ses', 'sg', 'sgs', 'sh', 'shi', 'shi-latn', 'shi-tfng', 'shn', 'si', 'simple', 'sk', 'skr', 'skr-arab', 'sl', 'sli', 'sm', 'sma', 'sn', 'so', 'sq', 'sr', 'sr-ec', 'sr-el', 'srn', 'ss', 'st', 'stq', 'sty', 'su', 'sv', 'sw', 'szl', 'ta', 'tay', 'tcy', 'te', 'tet', 'tg', 'tg-cyrl', 'tg-latn', 'th', 'ti', 'tk', 'tl', 'tly', 'tn', 'to', 'tpi', 'tr', 'tru', 'ts', 'tt', 'tt-cyrl', 'tt-latn', 'tum', 'tw', 'ty', 'tyv', 'tzm', 'udm', 'ug', 'ug-arab', 'ug-latn', 'uk', 'ur', 'uz', 'uz-cyrl', 'uz-latn', 've', 'vec', 'vep', 'vi', 'vls', 'vmf', 'vo', 'vot', 'vro', 'wa', 'war', 'wo', 'wuu', 'xal', 'xh', 'xmf', 'yi', 'yo', 'yue', 'za', 'zea', 'zh', 'zh-classical', 'zh-cn', 'zh-hans', 'zh-hant', 'zh-hk', 'zh-min-nan', 'zh-mo', 'zh-my', 'zh-sg', 'zh-tw', 'zh-yue', 'zu'])"
      ]
     },
     "execution_count": 184,
     "metadata": {},
     "output_type": "execute_result"
    }
   ],
   "source": [
    "languages = wikipedia.languages().keys()\n",
    "languages"
   ]
  },
  {
   "cell_type": "code",
   "execution_count": 218,
   "metadata": {
    "collapsed": true
   },
   "outputs": [],
   "source": [
    "languages = ['el','gom','hy','ja','ko','zh','ps',\n",
    "             'ru','be','kk','bg','mk','ba','sr','tt','tg','sl',\n",
    "            'af','en','fr','la','no','pl','pt','es','ca','de']"
   ]
  },
  {
   "cell_type": "code",
   "execution_count": 219,
   "metadata": {
    "collapsed": true
   },
   "outputs": [],
   "source": [
    "def get_texts_for_lang(lang, n=10): # функция для скачивания статей из википедии\n",
    "    wikipedia.set_lang(lang)\n",
    "    wiki_content = []\n",
    "    pages = wikipedia.random(n)\n",
    "    for page_name in pages:\n",
    "        try:\n",
    "            page = wikipedia.page(page_name)\n",
    "        except wikipedia.exceptions.WikipediaException:\n",
    "            #print('Skipping page {}'.format(page_name))\n",
    "            continue\n",
    "\n",
    "        wiki_content.append('{}\\n{}'.format(page.title, page.content.replace('==', '')))\n",
    "\n",
    "    return wiki_content"
   ]
  },
  {
   "cell_type": "code",
   "execution_count": 252,
   "metadata": {
    "collapsed": false
   },
   "outputs": [
    {
     "name": "stdout",
     "output_type": "stream",
     "text": [
      "el 48\n",
      "gom 50\n",
      "hy 48\n",
      "ja 43\n",
      "ko 48\n",
      "zh 50\n",
      "ps 50\n",
      "ru 45\n",
      "be 49\n",
      "kk 50\n",
      "bg 49\n",
      "mk 50\n",
      "ba 50\n",
      "sr 47\n",
      "tt 47\n",
      "tg 50\n",
      "sl 49\n",
      "af 50\n",
      "en 46\n",
      "fr 49\n",
      "la 49\n",
      "no 49\n",
      "pl 47\n",
      "pt 47\n",
      "es 47\n",
      "ca 49\n",
      "de 46\n"
     ]
    }
   ],
   "source": [
    "wiki_texts = {}\n",
    "for lang in languages:\n",
    "    wiki_texts[lang] = get_texts_for_lang(lang, 50)\n",
    "    print(lang, len(wiki_texts[lang]))"
   ]
  },
  {
   "cell_type": "code",
   "execution_count": null,
   "metadata": {
    "collapsed": false
   },
   "outputs": [],
   "source": [
    "TEST = {}\n",
    "for lang in languages:\n",
    "    TEST[lang] = get_texts_for_lang(lang, 10)\n",
    "    print(lang, len(TEST[lang]))"
   ]
  },
  {
   "cell_type": "code",
   "execution_count": 120,
   "metadata": {
    "collapsed": true
   },
   "outputs": [],
   "source": [
    "import pickle as pkl"
   ]
  },
  {
   "cell_type": "code",
   "execution_count": 121,
   "metadata": {
    "collapsed": true
   },
   "outputs": [],
   "source": [
    "with open('wiki_3_100.pkl', 'wb') as f:\n",
    "    pkl.dump(wiki_texts, f)"
   ]
  },
  {
   "cell_type": "code",
   "execution_count": 122,
   "metadata": {
    "collapsed": true
   },
   "outputs": [],
   "source": [
    "with open('wiki_3_100.pkl', 'rb') as f:\n",
    "    wiki_texts = pkl.load(f)"
   ]
  },
  {
   "cell_type": "code",
   "execution_count": 224,
   "metadata": {
    "collapsed": true
   },
   "outputs": [],
   "source": [
    "with open('wiki_more_10.pkl', 'wb') as f:\n",
    "    pkl.dump(wiki_texts, f)"
   ]
  },
  {
   "cell_type": "code",
   "execution_count": null,
   "metadata": {
    "collapsed": true
   },
   "outputs": [],
   "source": [
    "with open('wiki_more_10.pkl', 'rb') as f:\n",
    "    wiki_texts = pkl.load(f)"
   ]
  },
  {
   "cell_type": "code",
   "execution_count": 33,
   "metadata": {
    "collapsed": true
   },
   "outputs": [],
   "source": [
    "from collections import defaultdict\n",
    "from string import punctuation, digits\n",
    "punctuation = set(punctuation + '«»—…“”\\n\\t' + digits)"
   ]
  },
  {
   "cell_type": "markdown",
   "metadata": {},
   "source": [
    "## Первый способ: частотный словарь"
   ]
  },
  {
   "cell_type": "code",
   "execution_count": 40,
   "metadata": {
    "collapsed": true
   },
   "outputs": [],
   "source": [
    "import codecs\n",
    "import collections\n",
    "import sys"
   ]
  },
  {
   "cell_type": "code",
   "execution_count": 145,
   "metadata": {
    "collapsed": true
   },
   "outputs": [],
   "source": [
    "from sklearn.metrics import classification_report, confusion_matrix"
   ]
  },
  {
   "cell_type": "code",
   "execution_count": 149,
   "metadata": {
    "collapsed": true
   },
   "outputs": [],
   "source": [
    "import seaborn as sns\n",
    "import matplotlib.pyplot as plt\n",
    "%matplotlib inline  "
   ]
  },
  {
   "cell_type": "code",
   "execution_count": 107,
   "metadata": {
    "collapsed": false
   },
   "outputs": [],
   "source": [
    "#wiki_texts['kk']"
   ]
  },
  {
   "cell_type": "code",
   "execution_count": 188,
   "metadata": {
    "collapsed": true
   },
   "outputs": [],
   "source": [
    "def tokenize(text):\n",
    "    text = re.sub(r'[^\\w\\s]','',text).replace('\\n', '')\n",
    "    text = re.sub(r'[\\s]{2,}',' ',text)\n",
    "    return text.split(' ')"
   ]
  },
  {
   "cell_type": "code",
   "execution_count": 255,
   "metadata": {
    "collapsed": false
   },
   "outputs": [],
   "source": [
    "total_freqs = collections.defaultdict(lambda: collections.defaultdict(lambda: 0))\n",
    "for lang in wiki_texts.keys():\n",
    "    for article in wiki_texts[lang]:\n",
    "        for word in tokenize(article.replace('\\n', '').lower()):\n",
    "            total_freqs[lang][word] += 1\n",
    "#            freqs[word] += 1\n",
    "for lang in wiki_texts.keys():\n",
    "    summ = sum(total_freqs[lang].values())\n",
    "    for word in total_freqs[lang]:\n",
    "        total_freqs[lang][word] = total_freqs[lang][word]/summ"
   ]
  },
  {
   "cell_type": "code",
   "execution_count": 256,
   "metadata": {
    "collapsed": false
   },
   "outputs": [
    {
     "data": {
      "text/plain": [
       "0.9999999999998496"
      ]
     },
     "execution_count": 256,
     "metadata": {},
     "output_type": "execute_result"
    }
   ],
   "source": [
    "sum(total_freqs['ru'].values())"
   ]
  },
  {
   "cell_type": "code",
   "execution_count": 257,
   "metadata": {
    "collapsed": false
   },
   "outputs": [
    {
     "data": {
      "text/plain": [
       "6632"
      ]
     },
     "execution_count": 257,
     "metadata": {},
     "output_type": "execute_result"
    }
   ],
   "source": [
    "len(total_freqs['ru'])"
   ]
  },
  {
   "cell_type": "code",
   "execution_count": 244,
   "metadata": {
    "collapsed": false,
    "scrolled": true
   },
   "outputs": [
    {
     "name": "stdout",
     "output_type": "stream",
     "text": [
      "0.016666666666666666\tжәне\n",
      "0.016666666666666666\tсу\n",
      "0.011111111111111112\tсыртқы\n",
      "0.011111111111111112\tдереккөздер\n",
      "0.011111111111111112\tкоды\n"
     ]
    }
   ],
   "source": [
    "for word in sorted(total_freqs['kk'], key=lambda w: total_freqs['kk'][w], reverse=True)[:5]:\n",
    "    print('{}\\t{}'.format(total_freqs['kk'][word], word))"
   ]
  },
  {
   "cell_type": "code",
   "execution_count": 230,
   "metadata": {
    "collapsed": true
   },
   "outputs": [],
   "source": [
    "def predict_language_word(text, total_freqs):\n",
    "    text_words = tokenize(text)\n",
    "    variants = {}\n",
    "    \n",
    "    for lang in total_freqs.keys():\n",
    "        summ = 0\n",
    "        for word in text_words:\n",
    "            if word in total_freqs[lang]:\n",
    "                summ += total_freqs[lang][word]\n",
    "        variants[lang] = summ\n",
    "    \n",
    "    return max(variants, key=lambda x: variants[x])\n",
    "#     return lang2sim"
   ]
  },
  {
   "cell_type": "code",
   "execution_count": 247,
   "metadata": {
    "collapsed": true
   },
   "outputs": [],
   "source": [
    "def print_result(corpus, fnctn, source):\n",
    "    true_labels = []\n",
    "    predicted_labels = []\n",
    "\n",
    "    for lang in wiki_texts.keys():\n",
    "        for text in corpus[lang]:\n",
    "            true_labels.append(lang)\n",
    "            predicted_labels.append(fnctn(text, source))\n",
    "    print(classification_report(true_labels, predicted_labels))\n",
    "\n",
    "    labels = list(set(true_labels))\n",
    "\n",
    "    fig, ax = plt.subplots(figsize=(10,5))\n",
    "    sns.heatmap(data=confusion_matrix(true_labels, predicted_labels, labels = labels), \n",
    "                annot=True, \n",
    "                fmt=\"d\", xticklabels=labels, yticklabels=labels, ax=ax)\n",
    "    plt.title(\"Confusion matrix\")\n",
    "    plt.show()"
   ]
  },
  {
   "cell_type": "code",
   "execution_count": 258,
   "metadata": {
    "collapsed": false
   },
   "outputs": [
    {
     "name": "stdout",
     "output_type": "stream",
     "text": [
      "             precision    recall  f1-score   support\n",
      "\n",
      "         af       0.93      1.00      0.96        50\n",
      "         ba       0.94      0.98      0.96        50\n",
      "         be       1.00      0.86      0.92        49\n",
      "         bg       0.68      1.00      0.81        49\n",
      "         ca       1.00      0.37      0.54        49\n",
      "         de       1.00      0.98      0.99        46\n",
      "         el       0.88      0.96      0.92        48\n",
      "         en       0.55      1.00      0.71        46\n",
      "         es       0.45      1.00      0.62        47\n",
      "         fr       0.97      0.73      0.84        49\n",
      "        gom       1.00      0.72      0.84        50\n",
      "         hy       1.00      0.94      0.97        48\n",
      "         ja       1.00      0.79      0.88        43\n",
      "         kk       1.00      0.90      0.95        50\n",
      "         ko       1.00      0.81      0.90        48\n",
      "         la       1.00      0.80      0.89        49\n",
      "         mk       0.98      0.98      0.98        50\n",
      "         no       0.96      0.98      0.97        49\n",
      "         pl       0.98      0.96      0.97        47\n",
      "         ps       1.00      0.98      0.99        50\n",
      "         pt       0.91      0.83      0.87        47\n",
      "         ru       0.96      0.58      0.72        45\n",
      "         sl       0.98      0.98      0.98        49\n",
      "         sr       0.94      0.94      0.94        47\n",
      "         tg       0.98      0.94      0.96        50\n",
      "         tt       0.98      0.89      0.93        47\n",
      "         zh       0.79      0.82      0.80        50\n",
      "\n",
      "avg / total       0.92      0.88      0.88      1302\n",
      "\n"
     ]
    },
    {
     "data": {
      "image/png": "[encoded data removed]",
      "text/plain": [
       "<matplotlib.figure.Figure at 0x27f1e37e898>"
      ]
     },
     "metadata": {},
     "output_type": "display_data"
    }
   ],
   "source": [
    "print_result(wiki_texts, predict_language_word, total_freqs)"
   ]
  },
  {
   "cell_type": "code",
   "execution_count": 259,
   "metadata": {
    "collapsed": false
   },
   "outputs": [
    {
     "ename": "KeyError",
     "evalue": "'el'",
     "output_type": "error",
     "traceback": [
      "\u001b[1;31m---------------------------------------------------------------------------\u001b[0m",
      "\u001b[1;31mKeyError\u001b[0m                                  Traceback (most recent call last)",
      "\u001b[1;32m<ipython-input-259-db52278607c3>\u001b[0m in \u001b[0;36m<module>\u001b[1;34m()\u001b[0m\n\u001b[1;32m----> 1\u001b[1;33m \u001b[0mprint_result\u001b[0m\u001b[1;33m(\u001b[0m\u001b[0mTEST\u001b[0m\u001b[1;33m,\u001b[0m \u001b[0mpredict_language_word\u001b[0m\u001b[1;33m,\u001b[0m \u001b[0mtotal_freqs\u001b[0m\u001b[1;33m)\u001b[0m\u001b[1;33m\u001b[0m\u001b[0m\n\u001b[0m",
      "\u001b[1;32m<ipython-input-247-1ebed95853fb>\u001b[0m in \u001b[0;36mprint_result\u001b[1;34m(corpus, fnctn, source)\u001b[0m\n\u001b[0;32m      4\u001b[0m \u001b[1;33m\u001b[0m\u001b[0m\n\u001b[0;32m      5\u001b[0m     \u001b[1;32mfor\u001b[0m \u001b[0mlang\u001b[0m \u001b[1;32min\u001b[0m \u001b[0mwiki_texts\u001b[0m\u001b[1;33m.\u001b[0m\u001b[0mkeys\u001b[0m\u001b[1;33m(\u001b[0m\u001b[1;33m)\u001b[0m\u001b[1;33m:\u001b[0m\u001b[1;33m\u001b[0m\u001b[0m\n\u001b[1;32m----> 6\u001b[1;33m         \u001b[1;32mfor\u001b[0m \u001b[0mtext\u001b[0m \u001b[1;32min\u001b[0m \u001b[0mcorpus\u001b[0m\u001b[1;33m[\u001b[0m\u001b[0mlang\u001b[0m\u001b[1;33m]\u001b[0m\u001b[1;33m:\u001b[0m\u001b[1;33m\u001b[0m\u001b[0m\n\u001b[0m\u001b[0;32m      7\u001b[0m             \u001b[0mtrue_labels\u001b[0m\u001b[1;33m.\u001b[0m\u001b[0mappend\u001b[0m\u001b[1;33m(\u001b[0m\u001b[0mlang\u001b[0m\u001b[1;33m)\u001b[0m\u001b[1;33m\u001b[0m\u001b[0m\n\u001b[0;32m      8\u001b[0m             \u001b[0mpredicted_labels\u001b[0m\u001b[1;33m.\u001b[0m\u001b[0mappend\u001b[0m\u001b[1;33m(\u001b[0m\u001b[0mfnctn\u001b[0m\u001b[1;33m(\u001b[0m\u001b[0mtext\u001b[0m\u001b[1;33m,\u001b[0m \u001b[0msource\u001b[0m\u001b[1;33m)\u001b[0m\u001b[1;33m)\u001b[0m\u001b[1;33m\u001b[0m\u001b[0m\n",
      "\u001b[1;31mKeyError\u001b[0m: 'el'"
     ]
    }
   ],
   "source": [
    "print_result(TEST, predict_language_word, total_freqs)"
   ]
  },
  {
   "cell_type": "markdown",
   "metadata": {},
   "source": [
    "## Второй способ: частотные символьные n-grams"
   ]
  },
  {
   "cell_type": "code",
   "execution_count": null,
   "metadata": {
    "collapsed": true
   },
   "outputs": [],
   "source": []
  },
  {
   "cell_type": "code",
   "execution_count": 154,
   "metadata": {
    "collapsed": true
   },
   "outputs": [],
   "source": [
    "from itertools import islice, tee\n",
    "\n",
    "def make_ngrams(text):\n",
    "    N = 3 # задаем длину n-граммы\n",
    "    text = re.sub(r'[^\\w\\s]','',text).replace('\\n', '')\n",
    "    text = re.sub(r'[\\s]{2,}',' ',text)\n",
    "    ngrams = zip(*(islice(seq, index, None) for index, seq in enumerate(tee(text, N))))\n",
    "    ngrams = [''.join(x) for x in ngrams]\n",
    "    return ngrams"
   ]
  },
  {
   "cell_type": "code",
   "execution_count": 155,
   "metadata": {
    "collapsed": false
   },
   "outputs": [
    {
     "data": {
      "text/plain": [
       "['Это',\n",
       " 'то ',\n",
       " 'о к',\n",
       " ' ка',\n",
       " 'как',\n",
       " 'ако',\n",
       " 'кой',\n",
       " 'ойт',\n",
       " 'йто',\n",
       " 'то ',\n",
       " 'о т',\n",
       " ' те',\n",
       " 'тек',\n",
       " 'екс',\n",
       " 'кст']"
      ]
     },
     "execution_count": 155,
     "metadata": {},
     "output_type": "execute_result"
    }
   ],
   "source": [
    "make_ngrams('Это какой-то текст???')"
   ]
  },
  {
   "cell_type": "code",
   "execution_count": 260,
   "metadata": {
    "collapsed": true
   },
   "outputs": [],
   "source": [
    "total_ngrams = collections.defaultdict(lambda: collections.defaultdict(lambda: 0))\n",
    "\n",
    "for lang in wiki_texts.keys():\n",
    "    for article in wiki_texts[lang]:\n",
    "        for word in make_ngrams(article.replace('\\n', '').lower()):\n",
    "            total_ngrams[lang][word] += 1\n",
    "\n",
    "for lang in wiki_texts.keys():\n",
    "    summ = sum(total_ngrams[lang].values())\n",
    "    for word in total_ngrams[lang]:\n",
    "        total_ngrams[lang][word] = total_ngrams[lang][word]/summ"
   ]
  },
  {
   "cell_type": "code",
   "execution_count": 238,
   "metadata": {
    "collapsed": false
   },
   "outputs": [
    {
     "name": "stdout",
     "output_type": "stream",
     "text": [
      "0.006181318681318681\tала\n",
      "0.006181318681318681\tың \n",
      "0.005494505494505495\tнда\n",
      "0.005265567765567766\tан \n",
      "0.005265567765567766\tағы\n",
      "0.005036630036630037\tынд\n",
      "0.004807692307692308\tды \n",
      "0.004807692307692308\tер \n",
      "0.004578754578754579\tдер\n",
      "0.00434981684981685\tасы\n",
      "0.004120879120879121\t жа\n",
      "0.004120879120879121\tғы \n",
      "0.003891941391941392\tның\n",
      "0.003891941391941392\tары\n",
      "0.003891941391941392\tлық\n",
      "0.003663003663003663\tылы\n",
      "0.003663003663003663\tық \n",
      "0.003434065934065934\tен \n",
      "0.003205128205128205\t ба\n",
      "0.003205128205128205\tне \n"
     ]
    }
   ],
   "source": [
    "for word in sorted(total_ngrams['kk'], key=lambda w: total_ngrams['kk'][w], reverse=True)[:20]:\n",
    "    print('{}\\t{}'.format(total_ngrams['kk'][word], word))"
   ]
  },
  {
   "cell_type": "code",
   "execution_count": 212,
   "metadata": {
    "collapsed": true
   },
   "outputs": [],
   "source": [
    "def predict_language_ngrams(text, total_freqs):\n",
    "    text_words = make_ngrams(text)\n",
    "    variants = {}\n",
    "    \n",
    "    for lang in total_ngrams.keys():\n",
    "        summ = 0\n",
    "        for word in text_words:\n",
    "            if word in total_ngrams[lang]:\n",
    "                summ += total_ngrams[lang][word]\n",
    "        variants[lang] = summ\n",
    "    \n",
    "    return max(variants, key=lambda x: variants[x])\n",
    "#     return lang2sim"
   ]
  },
  {
   "cell_type": "code",
   "execution_count": 261,
   "metadata": {
    "collapsed": false
   },
   "outputs": [
    {
     "name": "stdout",
     "output_type": "stream",
     "text": [
      "             precision    recall  f1-score   support\n",
      "\n",
      "         af       0.93      1.00      0.96        50\n",
      "         ba       0.98      1.00      0.99        50\n",
      "         be       0.98      0.98      0.98        49\n",
      "         bg       0.92      0.98      0.95        49\n",
      "         ca       1.00      0.67      0.80        49\n",
      "         de       0.85      1.00      0.92        46\n",
      "         el       1.00      0.98      0.99        48\n",
      "         en       0.61      0.96      0.75        46\n",
      "         es       0.70      1.00      0.82        47\n",
      "         fr       0.92      1.00      0.96        49\n",
      "        gom       1.00      0.74      0.85        50\n",
      "         hy       1.00      1.00      1.00        48\n",
      "         ja       1.00      0.81      0.90        43\n",
      "         kk       1.00      1.00      1.00        50\n",
      "         ko       1.00      0.73      0.84        48\n",
      "         la       0.83      1.00      0.91        49\n",
      "         mk       0.94      1.00      0.97        50\n",
      "         no       0.96      0.98      0.97        49\n",
      "         pl       1.00      1.00      1.00        47\n",
      "         ps       1.00      1.00      1.00        50\n",
      "         pt       0.98      0.89      0.93        47\n",
      "         ru       0.98      0.91      0.94        45\n",
      "         sl       0.92      0.98      0.95        49\n",
      "         sr       1.00      0.94      0.97        47\n",
      "         tg       1.00      1.00      1.00        50\n",
      "         tt       1.00      0.89      0.94        47\n",
      "         zh       0.94      0.62      0.75        50\n",
      "\n",
      "avg / total       0.94      0.93      0.93      1302\n",
      "\n"
     ]
    },
    {
     "data": {
      "image/png": "[encoded data removed]",
      "text/plain": [
       "<matplotlib.figure.Figure at 0x27f1fe58630>"
      ]
     },
     "metadata": {},
     "output_type": "display_data"
    }
   ],
   "source": [
    "print_result(wiki_texts, predict_language_ngrams, total_ngrams)"
   ]
  },
  {
   "cell_type": "code",
   "execution_count": 251,
   "metadata": {
    "collapsed": false
   },
   "outputs": [
    {
     "name": "stdout",
     "output_type": "stream",
     "text": [
      "             precision    recall  f1-score   support\n",
      "\n",
      "         af       0.91      1.00      0.95        10\n",
      "         ba       1.00      1.00      1.00        10\n",
      "         be       1.00      0.89      0.94         9\n",
      "         bg       1.00      0.90      0.95        10\n",
      "         ca       0.77      1.00      0.87        10\n",
      "         de       0.80      1.00      0.89         8\n",
      "         el       1.00      1.00      1.00        10\n",
      "         en       0.60      1.00      0.75         9\n",
      "         es       1.00      0.89      0.94         9\n",
      "         fr       0.90      1.00      0.95         9\n",
      "        gom       1.00      0.70      0.82        10\n",
      "         hy       1.00      1.00      1.00         9\n",
      "         ja       0.75      0.33      0.46         9\n",
      "         kk       1.00      1.00      1.00        10\n",
      "         ko       1.00      0.67      0.80         9\n",
      "         la       0.83      1.00      0.91        10\n",
      "         mk       0.82      1.00      0.90         9\n",
      "         no       0.77      1.00      0.87        10\n",
      "         pl       1.00      0.88      0.93         8\n",
      "         ps       1.00      1.00      1.00        10\n",
      "         pt       0.90      1.00      0.95         9\n",
      "         ru       1.00      0.89      0.94         9\n",
      "         sl       0.83      1.00      0.91        10\n",
      "         sr       1.00      0.90      0.95        10\n",
      "         tg       1.00      1.00      1.00        10\n",
      "         tt       1.00      1.00      1.00         9\n",
      "         zh       0.75      0.30      0.43        10\n",
      "\n",
      "avg / total       0.91      0.90      0.89       255\n",
      "\n"
     ]
    },
    {
     "data": {
      "image/png": "[encoded data removed]",
      "text/plain": [
       "<matplotlib.figure.Figure at 0x27f1f105940>"
      ]
     },
     "metadata": {},
     "output_type": "display_data"
    }
   ],
   "source": [
    "print_result(TEST, predict_language_ngrams, total_ngrams)"
   ]
  }
 ],
 "metadata": {
  "kernelspec": {
   "display_name": "Python 3",
   "language": "python",
   "name": "python3"
  },
  "language_info": {
   "codemirror_mode": {
    "name": "ipython",
    "version": 3
   },
   "file_extension": ".py",
   "mimetype": "text/x-python",
   "name": "python",
   "nbconvert_exporter": "python",
   "pygments_lexer": "ipython3",
   "version": "3.6.5"
  }
 },
 "nbformat": 4,
 "nbformat_minor": 2
}
