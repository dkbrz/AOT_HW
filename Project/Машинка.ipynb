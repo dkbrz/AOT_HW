{
 "cells": [
  {
   "cell_type": "code",
   "execution_count": 3,
   "metadata": {},
   "outputs": [],
   "source": [
    "import pandas as pd\n",
    "import numpy as np\n",
    "\n",
    "import scipy.sparse\n",
    "from scipy.sparse import hstack"
   ]
  },
  {
   "cell_type": "code",
   "execution_count": null,
   "metadata": {},
   "outputs": [],
   "source": [
    "train = hstack([scipy.sparse.load_npz('D:/data/train_tsd_tfidf20000.npz'), \n",
    "                scipy.sparse.load_npz('D:/data/train_tst_tfidf2000.npz')])"
   ]
  },
  {
   "cell_type": "code",
   "execution_count": 6,
   "metadata": {},
   "outputs": [
    {
     "data": {
      "text/plain": [
       "(1503424, 22000)"
      ]
     },
     "execution_count": 6,
     "metadata": {},
     "output_type": "execute_result"
    }
   ],
   "source": [
    "train.shape"
   ]
  },
  {
   "cell_type": "markdown",
   "metadata": {},
   "source": [
    "** Linear base stem **"
   ]
  },
  {
   "cell_type": "code",
   "execution_count": 4,
   "metadata": {},
   "outputs": [],
   "source": [
    "y = pd.read_csv('D:/train.csv')['deal_probability']"
   ]
  },
  {
   "cell_type": "code",
   "execution_count": 5,
   "metadata": {},
   "outputs": [],
   "source": [
    "from sklearn.linear_model import LinearRegression"
   ]
  },
  {
   "cell_type": "code",
   "execution_count": 6,
   "metadata": {},
   "outputs": [],
   "source": [
    "model = LinearRegression(normalize=True)"
   ]
  },
  {
   "cell_type": "code",
   "execution_count": 7,
   "metadata": {
    "scrolled": true
   },
   "outputs": [
    {
     "name": "stdout",
     "output_type": "stream",
     "text": [
      "Wall time: 9min 37s\n"
     ]
    },
    {
     "data": {
      "text/plain": [
       "LinearRegression(copy_X=True, fit_intercept=True, n_jobs=1, normalize=True)"
      ]
     },
     "execution_count": 7,
     "metadata": {},
     "output_type": "execute_result"
    }
   ],
   "source": [
    "%time model.fit(train, y)"
   ]
  },
  {
   "cell_type": "code",
   "execution_count": 14,
   "metadata": {},
   "outputs": [],
   "source": [
    "#del train\n",
    "\n",
    "test = hstack([scipy.sparse.load_npz('D:/data/test_tsd_tfidf20000.npz'), \n",
    "                scipy.sparse.load_npz('D:/data/test_tst_tfidf2000.npz')])\n",
    "pred = model.predict(test)\n",
    "\n",
    "pred[pred < 0] = 0\n",
    "pred[pred > 1] = 1\n",
    "\n",
    "label = pd.read_csv('D:/test.csv')['item_id']\n",
    "\n",
    "df = pd.DataFrame()\n",
    "df['item_id'] = label.values\n",
    "df['deal_probability'] = pred\n",
    "\n",
    "df.to_csv('2_linear22.csv',index=False)"
   ]
  },
  {
   "cell_type": "code",
   "execution_count": 16,
   "metadata": {},
   "outputs": [
    {
     "data": {
      "image/png": "[encoded data removed]",
      "text/plain": [
       "<Figure size 432x288 with 1 Axes>"
      ]
     },
     "metadata": {},
     "output_type": "display_data"
    }
   ],
   "source": [
    "import matplotlib.pyplot as plt\n",
    "plt.hist(pred)\n",
    "plt.show()"
   ]
  },
  {
   "cell_type": "markdown",
   "metadata": {},
   "source": [
    "** Linear base lemma **"
   ]
  },
  {
   "cell_type": "code",
   "execution_count": 3,
   "metadata": {},
   "outputs": [
    {
     "name": "stdout",
     "output_type": "stream",
     "text": [
      "Wall time: 12min 41s\n"
     ]
    },
    {
     "data": {
      "text/plain": [
       "LinearRegression(copy_X=True, fit_intercept=True, n_jobs=1, normalize=True)"
      ]
     },
     "execution_count": 3,
     "metadata": {},
     "output_type": "execute_result"
    }
   ],
   "source": [
    "train = hstack([scipy.sparse.load_npz('D:/data/train_td_tfidf20000.npz'), \n",
    "                scipy.sparse.load_npz('D:/data/train_tt_tfidf2000.npz')])\n",
    "y = pd.read_csv('D:/train.csv')['deal_probability']\n",
    "from sklearn.linear_model import LinearRegression\n",
    "model = LinearRegression(normalize=True)\n",
    "%time model.fit(train, y)"
   ]
  },
  {
   "cell_type": "code",
   "execution_count": 4,
   "metadata": {},
   "outputs": [],
   "source": [
    "#del train\n",
    "\n",
    "test = hstack([scipy.sparse.load_npz('D:/data/test_td_tfidf20000.npz'), \n",
    "                scipy.sparse.load_npz('D:/data/test_tt_tfidf2000.npz')])\n",
    "pred = model.predict(test)\n",
    "\n",
    "pred[pred < 0] = 0\n",
    "pred[pred > 1] = 1\n",
    "\n",
    "label = pd.read_csv('D:/test.csv')['item_id']\n",
    "\n",
    "df = pd.DataFrame()\n",
    "df['item_id'] = label.values\n",
    "df['deal_probability'] = pred\n",
    "\n",
    "df.to_csv('3_linear22_lemma.csv',index=False)"
   ]
  },
  {
   "cell_type": "markdown",
   "metadata": {},
   "source": [
    "** Select **"
   ]
  },
  {
   "cell_type": "code",
   "execution_count": null,
   "metadata": {},
   "outputs": [],
   "source": [
    "train = hstack([scipy.sparse.load_npz('D:/data/train_td_tfidf20000.npz'), \n",
    "                scipy.sparse.load_npz('D:/data/train_tt_tfidf2000.npz')])"
   ]
  },
  {
   "cell_type": "code",
   "execution_count": 6,
   "metadata": {},
   "outputs": [],
   "source": [
    "from sklearn.feature_selection import SelectFromModel\n",
    "select = SelectFromModel(model, threshold=0.11, prefit=True)"
   ]
  },
  {
   "cell_type": "code",
   "execution_count": 7,
   "metadata": {},
   "outputs": [
    {
     "data": {
      "text/plain": [
       "(1503424, 8783)"
      ]
     },
     "execution_count": 7,
     "metadata": {},
     "output_type": "execute_result"
    }
   ],
   "source": [
    "X = select.transform(train)\n",
    "X.shape"
   ]
  },
  {
   "cell_type": "code",
   "execution_count": 8,
   "metadata": {},
   "outputs": [],
   "source": [
    "scipy.sparse.save_npz('D:/data/train_short2.npz', X)"
   ]
  },
  {
   "cell_type": "code",
   "execution_count": 9,
   "metadata": {},
   "outputs": [],
   "source": [
    "del X, train"
   ]
  },
  {
   "cell_type": "code",
   "execution_count": 10,
   "metadata": {},
   "outputs": [],
   "source": [
    "test = hstack([scipy.sparse.load_npz('D:/data/test_td_tfidf20000.npz'), \n",
    "                scipy.sparse.load_npz('D:/data/test_tt_tfidf2000.npz')])"
   ]
  },
  {
   "cell_type": "code",
   "execution_count": 11,
   "metadata": {},
   "outputs": [
    {
     "data": {
      "text/plain": [
       "(508438, 8783)"
      ]
     },
     "execution_count": 11,
     "metadata": {},
     "output_type": "execute_result"
    }
   ],
   "source": [
    "X = select.transform(test)\n",
    "X.shape"
   ]
  },
  {
   "cell_type": "code",
   "execution_count": 12,
   "metadata": {},
   "outputs": [],
   "source": [
    "scipy.sparse.save_npz('D:/data/test_short2.npz', X)"
   ]
  },
  {
   "cell_type": "code",
   "execution_count": null,
   "metadata": {},
   "outputs": [],
   "source": []
  },
  {
   "cell_type": "code",
   "execution_count": 4,
   "metadata": {},
   "outputs": [],
   "source": [
    "train = hstack([scipy.sparse.load_npz('D:/data/train_short1.npz'), \n",
    "                scipy.sparse.load_npz('D:/data/train_short2.npz')]\n",
    "              )\n",
    "y = pd.read_csv('D:/train.csv')['deal_probability']"
   ]
  },
  {
   "cell_type": "code",
   "execution_count": 5,
   "metadata": {},
   "outputs": [
    {
     "data": {
      "text/plain": [
       "(1503424, 14125)"
      ]
     },
     "execution_count": 5,
     "metadata": {},
     "output_type": "execute_result"
    }
   ],
   "source": [
    "train.shape"
   ]
  },
  {
   "cell_type": "code",
   "execution_count": 6,
   "metadata": {},
   "outputs": [
    {
     "name": "stdout",
     "output_type": "stream",
     "text": [
      "Wall time: 54min 20s\n"
     ]
    },
    {
     "data": {
      "text/plain": [
       "LinearRegression(copy_X=True, fit_intercept=True, n_jobs=-1, normalize=True)"
      ]
     },
     "execution_count": 6,
     "metadata": {},
     "output_type": "execute_result"
    }
   ],
   "source": [
    "from sklearn.linear_model import LinearRegression\n",
    "model = LinearRegression(normalize=True, n_jobs = -1)\n",
    "%time model.fit(train, y)"
   ]
  },
  {
   "cell_type": "code",
   "execution_count": 7,
   "metadata": {},
   "outputs": [],
   "source": [
    "#del train\n",
    "\n",
    "test = hstack([scipy.sparse.load_npz('D:/data/test_short1.npz'), \n",
    "                scipy.sparse.load_npz('D:/data/test_short2.npz')])\n",
    "pred = model.predict(test)\n",
    "\n",
    "pred[pred < 0] = 0\n",
    "pred[pred > 1] = 1\n",
    "\n",
    "label = pd.read_csv('D:/test.csv')['item_id']\n",
    "\n",
    "df = pd.DataFrame()\n",
    "df['item_id'] = label.values\n",
    "df['deal_probability'] = pred\n",
    "\n",
    "df.to_csv('4_linear_joined.csv',index=False)"
   ]
  },
  {
   "cell_type": "code",
   "execution_count": 8,
   "metadata": {},
   "outputs": [],
   "source": [
    "from sklearn.feature_selection import SelectFromModel"
   ]
  },
  {
   "cell_type": "code",
   "execution_count": 15,
   "metadata": {},
   "outputs": [],
   "source": [
    "sfm = SelectFromModel(model, prefit=True, threshold=0.1)"
   ]
  },
  {
   "cell_type": "code",
   "execution_count": 16,
   "metadata": {},
   "outputs": [],
   "source": [
    "train_short = sfm.transform(train)"
   ]
  },
  {
   "cell_type": "code",
   "execution_count": 17,
   "metadata": {},
   "outputs": [
    {
     "data": {
      "text/plain": [
       "(1503424, 11632)"
      ]
     },
     "execution_count": 17,
     "metadata": {},
     "output_type": "execute_result"
    }
   ],
   "source": [
    "train_short.shape"
   ]
  },
  {
   "cell_type": "code",
   "execution_count": 18,
   "metadata": {},
   "outputs": [],
   "source": [
    "train_short = sfm.transform(train)\n",
    "test_short = sfm.transform(test)"
   ]
  },
  {
   "cell_type": "code",
   "execution_count": 19,
   "metadata": {},
   "outputs": [],
   "source": [
    "scipy.sparse.save_npz('D:/data/train_short.npz', train_short)\n",
    "scipy.sparse.save_npz('D:/data/test_short.npz', test_short)"
   ]
  },
  {
   "cell_type": "markdown",
   "metadata": {},
   "source": [
    "** Linear on POS **"
   ]
  },
  {
   "cell_type": "code",
   "execution_count": 3,
   "metadata": {},
   "outputs": [],
   "source": [
    "train = hstack([scipy.sparse.load_npz('D:/data/train_pos_tfidf100.npz'), \n",
    "                scipy.sparse.load_npz('D:/data/train_type_tfidf200.npz')]\n",
    "              )\n",
    "y = pd.read_csv('D:/train.csv')['deal_probability']"
   ]
  },
  {
   "cell_type": "code",
   "execution_count": 6,
   "metadata": {},
   "outputs": [
    {
     "name": "stdout",
     "output_type": "stream",
     "text": [
      "Wall time: 59.7 s\n"
     ]
    },
    {
     "data": {
      "text/plain": [
       "LinearRegression(copy_X=True, fit_intercept=True, n_jobs=-1, normalize=True)"
      ]
     },
     "execution_count": 6,
     "metadata": {},
     "output_type": "execute_result"
    }
   ],
   "source": [
    "from sklearn.linear_model import LinearRegression\n",
    "model = LinearRegression(normalize=True, n_jobs = -1)\n",
    "%time model.fit(train, y)"
   ]
  },
  {
   "cell_type": "code",
   "execution_count": 9,
   "metadata": {},
   "outputs": [
    {
     "ename": "NameError",
     "evalue": "name 'train' is not defined",
     "output_type": "error",
     "traceback": [
      "\u001b[1;31m---------------------------------------------------------------------------\u001b[0m",
      "\u001b[1;31mNameError\u001b[0m                                 Traceback (most recent call last)",
      "\u001b[1;32m<ipython-input-9-5e6a15ce28a5>\u001b[0m in \u001b[0;36m<module>\u001b[1;34m()\u001b[0m\n\u001b[1;32m----> 1\u001b[1;33m \u001b[0mtrain\u001b[0m\u001b[1;33m.\u001b[0m\u001b[0mshape\u001b[0m\u001b[1;33m\u001b[0m\u001b[0m\n\u001b[0m",
      "\u001b[1;31mNameError\u001b[0m: name 'train' is not defined"
     ]
    }
   ],
   "source": [
    "train.shape"
   ]
  },
  {
   "cell_type": "code",
   "execution_count": 14,
   "metadata": {},
   "outputs": [
    {
     "data": {
      "text/plain": [
       "(325954, 100)"
      ]
     },
     "execution_count": 14,
     "metadata": {},
     "output_type": "execute_result"
    }
   ],
   "source": [
    "scipy.sparse.load_npz('D:/data/test_pos_tfidf100.npz').shape"
   ]
  },
  {
   "cell_type": "code",
   "execution_count": 7,
   "metadata": {},
   "outputs": [
    {
     "ename": "ValueError",
     "evalue": "Length of values does not match length of index",
     "output_type": "error",
     "traceback": [
      "\u001b[1;31m---------------------------------------------------------------------------\u001b[0m",
      "\u001b[1;31mValueError\u001b[0m                                Traceback (most recent call last)",
      "\u001b[1;32m<ipython-input-7-85a53c60bf49>\u001b[0m in \u001b[0;36m<module>\u001b[1;34m()\u001b[0m\n\u001b[0;32m     12\u001b[0m \u001b[0mdf\u001b[0m \u001b[1;33m=\u001b[0m \u001b[0mpd\u001b[0m\u001b[1;33m.\u001b[0m\u001b[0mDataFrame\u001b[0m\u001b[1;33m(\u001b[0m\u001b[1;33m)\u001b[0m\u001b[1;33m\u001b[0m\u001b[0m\n\u001b[0;32m     13\u001b[0m \u001b[0mdf\u001b[0m\u001b[1;33m[\u001b[0m\u001b[1;34m'item_id'\u001b[0m\u001b[1;33m]\u001b[0m \u001b[1;33m=\u001b[0m \u001b[0mlabel\u001b[0m\u001b[1;33m.\u001b[0m\u001b[0mvalues\u001b[0m\u001b[1;33m\u001b[0m\u001b[0m\n\u001b[1;32m---> 14\u001b[1;33m \u001b[0mdf\u001b[0m\u001b[1;33m[\u001b[0m\u001b[1;34m'deal_probability'\u001b[0m\u001b[1;33m]\u001b[0m \u001b[1;33m=\u001b[0m \u001b[0mpred\u001b[0m\u001b[1;33m\u001b[0m\u001b[0m\n\u001b[0m\u001b[0;32m     15\u001b[0m \u001b[1;33m\u001b[0m\u001b[0m\n\u001b[0;32m     16\u001b[0m \u001b[0mdf\u001b[0m\u001b[1;33m.\u001b[0m\u001b[0mto_csv\u001b[0m\u001b[1;33m(\u001b[0m\u001b[1;34m'5_linear_pos+type.csv'\u001b[0m\u001b[1;33m,\u001b[0m\u001b[0mindex\u001b[0m\u001b[1;33m=\u001b[0m\u001b[1;32mFalse\u001b[0m\u001b[1;33m)\u001b[0m\u001b[1;33m\u001b[0m\u001b[0m\n",
      "\u001b[1;32m~\\Anaconda3\\lib\\site-packages\\pandas\\core\\frame.py\u001b[0m in \u001b[0;36m__setitem__\u001b[1;34m(self, key, value)\u001b[0m\n\u001b[0;32m   3114\u001b[0m         \u001b[1;32melse\u001b[0m\u001b[1;33m:\u001b[0m\u001b[1;33m\u001b[0m\u001b[0m\n\u001b[0;32m   3115\u001b[0m             \u001b[1;31m# set column\u001b[0m\u001b[1;33m\u001b[0m\u001b[1;33m\u001b[0m\u001b[0m\n\u001b[1;32m-> 3116\u001b[1;33m             \u001b[0mself\u001b[0m\u001b[1;33m.\u001b[0m\u001b[0m_set_item\u001b[0m\u001b[1;33m(\u001b[0m\u001b[0mkey\u001b[0m\u001b[1;33m,\u001b[0m \u001b[0mvalue\u001b[0m\u001b[1;33m)\u001b[0m\u001b[1;33m\u001b[0m\u001b[0m\n\u001b[0m\u001b[0;32m   3117\u001b[0m \u001b[1;33m\u001b[0m\u001b[0m\n\u001b[0;32m   3118\u001b[0m     \u001b[1;32mdef\u001b[0m \u001b[0m_setitem_slice\u001b[0m\u001b[1;33m(\u001b[0m\u001b[0mself\u001b[0m\u001b[1;33m,\u001b[0m \u001b[0mkey\u001b[0m\u001b[1;33m,\u001b[0m \u001b[0mvalue\u001b[0m\u001b[1;33m)\u001b[0m\u001b[1;33m:\u001b[0m\u001b[1;33m\u001b[0m\u001b[0m\n",
      "\u001b[1;32m~\\Anaconda3\\lib\\site-packages\\pandas\\core\\frame.py\u001b[0m in \u001b[0;36m_set_item\u001b[1;34m(self, key, value)\u001b[0m\n\u001b[0;32m   3189\u001b[0m \u001b[1;33m\u001b[0m\u001b[0m\n\u001b[0;32m   3190\u001b[0m         \u001b[0mself\u001b[0m\u001b[1;33m.\u001b[0m\u001b[0m_ensure_valid_index\u001b[0m\u001b[1;33m(\u001b[0m\u001b[0mvalue\u001b[0m\u001b[1;33m)\u001b[0m\u001b[1;33m\u001b[0m\u001b[0m\n\u001b[1;32m-> 3191\u001b[1;33m         \u001b[0mvalue\u001b[0m \u001b[1;33m=\u001b[0m \u001b[0mself\u001b[0m\u001b[1;33m.\u001b[0m\u001b[0m_sanitize_column\u001b[0m\u001b[1;33m(\u001b[0m\u001b[0mkey\u001b[0m\u001b[1;33m,\u001b[0m \u001b[0mvalue\u001b[0m\u001b[1;33m)\u001b[0m\u001b[1;33m\u001b[0m\u001b[0m\n\u001b[0m\u001b[0;32m   3192\u001b[0m         \u001b[0mNDFrame\u001b[0m\u001b[1;33m.\u001b[0m\u001b[0m_set_item\u001b[0m\u001b[1;33m(\u001b[0m\u001b[0mself\u001b[0m\u001b[1;33m,\u001b[0m \u001b[0mkey\u001b[0m\u001b[1;33m,\u001b[0m \u001b[0mvalue\u001b[0m\u001b[1;33m)\u001b[0m\u001b[1;33m\u001b[0m\u001b[0m\n\u001b[0;32m   3193\u001b[0m \u001b[1;33m\u001b[0m\u001b[0m\n",
      "\u001b[1;32m~\\Anaconda3\\lib\\site-packages\\pandas\\core\\frame.py\u001b[0m in \u001b[0;36m_sanitize_column\u001b[1;34m(self, key, value, broadcast)\u001b[0m\n\u001b[0;32m   3386\u001b[0m \u001b[1;33m\u001b[0m\u001b[0m\n\u001b[0;32m   3387\u001b[0m             \u001b[1;31m# turn me into an ndarray\u001b[0m\u001b[1;33m\u001b[0m\u001b[1;33m\u001b[0m\u001b[0m\n\u001b[1;32m-> 3388\u001b[1;33m             \u001b[0mvalue\u001b[0m \u001b[1;33m=\u001b[0m \u001b[0m_sanitize_index\u001b[0m\u001b[1;33m(\u001b[0m\u001b[0mvalue\u001b[0m\u001b[1;33m,\u001b[0m \u001b[0mself\u001b[0m\u001b[1;33m.\u001b[0m\u001b[0mindex\u001b[0m\u001b[1;33m,\u001b[0m \u001b[0mcopy\u001b[0m\u001b[1;33m=\u001b[0m\u001b[1;32mFalse\u001b[0m\u001b[1;33m)\u001b[0m\u001b[1;33m\u001b[0m\u001b[0m\n\u001b[0m\u001b[0;32m   3389\u001b[0m             \u001b[1;32mif\u001b[0m \u001b[1;32mnot\u001b[0m \u001b[0misinstance\u001b[0m\u001b[1;33m(\u001b[0m\u001b[0mvalue\u001b[0m\u001b[1;33m,\u001b[0m \u001b[1;33m(\u001b[0m\u001b[0mnp\u001b[0m\u001b[1;33m.\u001b[0m\u001b[0mndarray\u001b[0m\u001b[1;33m,\u001b[0m \u001b[0mIndex\u001b[0m\u001b[1;33m)\u001b[0m\u001b[1;33m)\u001b[0m\u001b[1;33m:\u001b[0m\u001b[1;33m\u001b[0m\u001b[0m\n\u001b[0;32m   3390\u001b[0m                 \u001b[1;32mif\u001b[0m \u001b[0misinstance\u001b[0m\u001b[1;33m(\u001b[0m\u001b[0mvalue\u001b[0m\u001b[1;33m,\u001b[0m \u001b[0mlist\u001b[0m\u001b[1;33m)\u001b[0m \u001b[1;32mand\u001b[0m \u001b[0mlen\u001b[0m\u001b[1;33m(\u001b[0m\u001b[0mvalue\u001b[0m\u001b[1;33m)\u001b[0m \u001b[1;33m>\u001b[0m \u001b[1;36m0\u001b[0m\u001b[1;33m:\u001b[0m\u001b[1;33m\u001b[0m\u001b[0m\n",
      "\u001b[1;32m~\\Anaconda3\\lib\\site-packages\\pandas\\core\\series.py\u001b[0m in \u001b[0;36m_sanitize_index\u001b[1;34m(data, index, copy)\u001b[0m\n\u001b[0;32m   3996\u001b[0m \u001b[1;33m\u001b[0m\u001b[0m\n\u001b[0;32m   3997\u001b[0m     \u001b[1;32mif\u001b[0m \u001b[0mlen\u001b[0m\u001b[1;33m(\u001b[0m\u001b[0mdata\u001b[0m\u001b[1;33m)\u001b[0m \u001b[1;33m!=\u001b[0m \u001b[0mlen\u001b[0m\u001b[1;33m(\u001b[0m\u001b[0mindex\u001b[0m\u001b[1;33m)\u001b[0m\u001b[1;33m:\u001b[0m\u001b[1;33m\u001b[0m\u001b[0m\n\u001b[1;32m-> 3998\u001b[1;33m         \u001b[1;32mraise\u001b[0m \u001b[0mValueError\u001b[0m\u001b[1;33m(\u001b[0m\u001b[1;34m'Length of values does not match length of '\u001b[0m \u001b[1;34m'index'\u001b[0m\u001b[1;33m)\u001b[0m\u001b[1;33m\u001b[0m\u001b[0m\n\u001b[0m\u001b[0;32m   3999\u001b[0m \u001b[1;33m\u001b[0m\u001b[0m\n\u001b[0;32m   4000\u001b[0m     \u001b[1;32mif\u001b[0m \u001b[0misinstance\u001b[0m\u001b[1;33m(\u001b[0m\u001b[0mdata\u001b[0m\u001b[1;33m,\u001b[0m \u001b[0mABCIndexClass\u001b[0m\u001b[1;33m)\u001b[0m \u001b[1;32mand\u001b[0m \u001b[1;32mnot\u001b[0m \u001b[0mcopy\u001b[0m\u001b[1;33m:\u001b[0m\u001b[1;33m\u001b[0m\u001b[0m\n",
      "\u001b[1;31mValueError\u001b[0m: Length of values does not match length of index"
     ]
    }
   ],
   "source": [
    "del train\n",
    "\n",
    "test = hstack([scipy.sparse.load_npz('D:/data/test_pos_tfidf100.npz'), \n",
    "                scipy.sparse.load_npz('D:/data/test_type_tfidf200.npz')])\n",
    "pred = model.predict(test)\n",
    "\n",
    "pred[pred < 0] = 0\n",
    "pred[pred > 1] = 1\n",
    "\n",
    "label = pd.read_csv('D:/test.csv')['item_id']\n",
    "\n",
    "df = pd.DataFrame()\n",
    "df['item_id'] = label.values\n",
    "df['deal_probability'] = pred\n",
    "\n",
    "df.to_csv('5_linear_pos+type.csv',index=False)"
   ]
  },
  {
   "cell_type": "markdown",
   "metadata": {},
   "source": [
    "# Ridge"
   ]
  },
  {
   "cell_type": "code",
   "execution_count": 1,
   "metadata": {},
   "outputs": [],
   "source": [
    "from sklearn.linear_model import Ridge"
   ]
  },
  {
   "cell_type": "code",
   "execution_count": 5,
   "metadata": {},
   "outputs": [
    {
     "name": "stdout",
     "output_type": "stream",
     "text": [
      "Wall time: 1min 17s\n"
     ]
    },
    {
     "data": {
      "text/plain": [
       "Ridge(alpha=1.0, copy_X=False, fit_intercept=True, max_iter=None,\n",
       "   normalize=False, random_state=23, solver='auto', tol=0.001)"
      ]
     },
     "execution_count": 5,
     "metadata": {},
     "output_type": "execute_result"
    }
   ],
   "source": [
    "train = hstack([scipy.sparse.load_npz('D:/data/train_td_tfidf20000.npz'), \n",
    "                scipy.sparse.load_npz('D:/data/train_tt_tfidf2000.npz')])\n",
    "y = pd.read_csv('D:/train.csv')['deal_probability']\n",
    "model = Ridge(copy_X=False, random_state=23)\n",
    "%time model.fit(train, y)"
   ]
  },
  {
   "cell_type": "code",
   "execution_count": 6,
   "metadata": {},
   "outputs": [],
   "source": [
    "del train\n",
    "\n",
    "test = hstack([scipy.sparse.load_npz('D:/data/test_td_tfidf20000.npz'), \n",
    "                scipy.sparse.load_npz('D:/data/test_tt_tfidf2000.npz')])\n",
    "pred = model.predict(test)\n",
    "\n",
    "pred[pred < 0] = 0\n",
    "pred[pred > 1] = 1\n",
    "\n",
    "label = pd.read_csv('D:/test.csv')['item_id']\n",
    "\n",
    "df = pd.DataFrame()\n",
    "df['item_id'] = label.values\n",
    "df['deal_probability'] = pred\n",
    "\n",
    "df.to_csv('5_Ridge_lemma22.csv',index=False)"
   ]
  },
  {
   "cell_type": "markdown",
   "metadata": {},
   "source": [
    "** FULL **"
   ]
  },
  {
   "cell_type": "code",
   "execution_count": 3,
   "metadata": {},
   "outputs": [],
   "source": [
    "train = hstack([scipy.sparse.load_npz('D:/data/train_tsd_tfidf20000.npz'), \n",
    "                scipy.sparse.load_npz('D:/data/train_tst_tfidf2000.npz'),\n",
    "                scipy.sparse.load_npz('D:/train12.npz')])"
   ]
  },
  {
   "cell_type": "code",
   "execution_count": 4,
   "metadata": {},
   "outputs": [
    {
     "name": "stdout",
     "output_type": "stream",
     "text": [
      "Wall time: 40.4 s\n"
     ]
    },
    {
     "data": {
      "text/plain": [
       "Ridge(alpha=1.0, copy_X=False, fit_intercept=True, max_iter=None,\n",
       "   normalize=True, random_state=23, solver='auto', tol=0.001)"
      ]
     },
     "execution_count": 4,
     "metadata": {},
     "output_type": "execute_result"
    }
   ],
   "source": [
    "from sklearn.linear_model import Ridge\n",
    "y = pd.read_csv('D:/train.csv')['deal_probability']\n",
    "model = Ridge(normalize=True, copy_X=False, random_state=23)\n",
    "%time model.fit(train, y)"
   ]
  },
  {
   "cell_type": "code",
   "execution_count": 5,
   "metadata": {},
   "outputs": [
    {
     "data": {
      "text/plain": [
       "array([14])"
      ]
     },
     "execution_count": 5,
     "metadata": {},
     "output_type": "execute_result"
    }
   ],
   "source": [
    "model.n_iter_"
   ]
  },
  {
   "cell_type": "code",
   "execution_count": 6,
   "metadata": {},
   "outputs": [],
   "source": [
    "del train\n",
    "\n",
    "test = hstack([scipy.sparse.load_npz('D:/data/test_td_tfidf20000.npz'), \n",
    "                scipy.sparse.load_npz('D:/data/test_tt_tfidf2000.npz'),\n",
    "              scipy.sparse.load_npz('D:/test12.npz')])\n",
    "pred = model.predict(test)\n",
    "\n",
    "pred[pred < 0] = 0\n",
    "pred[pred > 1] = 1\n",
    "\n",
    "label = pd.read_csv('D:/test.csv')['item_id']\n",
    "\n",
    "df = pd.DataFrame()\n",
    "df['item_id'] = label.values\n",
    "df['deal_probability'] = pred\n",
    "\n",
    "df.to_csv('6_Ridge_lemma22+cat.csv',index=False)"
   ]
  },
  {
   "cell_type": "code",
   "execution_count": 2,
   "metadata": {},
   "outputs": [
    {
     "name": "stdout",
     "output_type": "stream",
     "text": [
      "Wall time: 6min 3s\n"
     ]
    }
   ],
   "source": [
    "train = hstack([scipy.sparse.load_npz('D:/data/train_tsd_tfidf20000.npz'), \n",
    "                scipy.sparse.load_npz('D:/data/train_tst_tfidf2000.npz'),\n",
    "                scipy.sparse.load_npz('D:/train12.npz')])\n",
    "from sklearn.linear_model import LinearRegression\n",
    "y = pd.read_csv('D:/train.csv')['deal_probability']\n",
    "model = LinearRegression(normalize=True, copy_X=False)\n",
    "%time model.fit(train, y)\n",
    "del train\n",
    "\n",
    "test = hstack([scipy.sparse.load_npz('D:/data/test_td_tfidf20000.npz'), \n",
    "                scipy.sparse.load_npz('D:/data/test_tt_tfidf2000.npz'),\n",
    "              scipy.sparse.load_npz('D:/test12.npz')])\n",
    "pred = model.predict(test)\n",
    "\n",
    "pred[pred < 0] = 0\n",
    "pred[pred > 1] = 1\n",
    "\n",
    "label = pd.read_csv('D:/test.csv')['item_id']\n",
    "\n",
    "df = pd.DataFrame()\n",
    "df['item_id'] = label.values\n",
    "df['deal_probability'] = pred\n",
    "\n",
    "df.to_csv('7_Ridge_lemma22+cat.csv',index=False)"
   ]
  },
  {
   "cell_type": "code",
   "execution_count": null,
   "metadata": {},
   "outputs": [],
   "source": [
    "train = hstack([scipy.sparse.load_npz('D:/data/train_pos_tfidf100.npz'), \n",
    "                scipy.sparse.load_npz('D:/data/train_type_tfidf200.npz')])\n",
    "from sklearn.linear_model import LinearRegression\n",
    "y = pd.read_csv('D:/train.csv')['deal_probability']\n",
    "model = LinearRegression(normalize=True, copy_X=False)\n",
    "%time model.fit(train, y)\n",
    "del train\n",
    "\n",
    "test = hstack([scipy.sparse.load_npz('D:/data/test_pos_tfidf200.npz'), \n",
    "                scipy.sparse.load_npz('D:/data/test_type_tfidf200.npz')])\n",
    "pred = model.predict(test)\n",
    "\n",
    "pred[pred < 0] = 0\n",
    "pred[pred > 1] = 1\n",
    "\n",
    "label = pd.read_csv('D:/test.csv')['item_id']\n",
    "\n",
    "df = pd.DataFrame()\n",
    "df['item_id'] = label.values\n",
    "df['deal_probability'] = pred\n",
    "\n",
    "df.to_csv('8_Ridge_pos+type.csv',index=False)"
   ]
  },
  {
   "cell_type": "code",
   "execution_count": null,
   "metadata": {},
   "outputs": [],
   "source": [
    "train = hstack([scipy.sparse.load_npz('D:/data/train_pos_tfidf100.npz'), \n",
    "                scipy.sparse.load_npz('D:/data/train_type_tfidf200.npz')])\n",
    "from sklearn.linear_model import RidgeCV\n",
    "from sklearn.metrics import mean_squared_error\n",
    "y = pd.read_csv('D:/train.csv')['deal_probability']\n",
    "alphas = list(np.logspace(-3, -1, 5))\n",
    "model = RidgeCV(alphas=alphas, cv=5, normalize=True)\n",
    "%time model.fit(train, y)\n",
    "del train\n",
    "\n",
    "test = hstack([scipy.sparse.load_npz('D:/data/test_pos_tfidf200.npz'), \n",
    "                scipy.sparse.load_npz('D:/data/test_type_tfidf200.npz')])\n",
    "pred = model.predict(test)\n",
    "\n",
    "pred[pred < 0] = 0\n",
    "pred[pred > 1] = 1\n",
    "\n",
    "label = pd.read_csv('D:/test.csv')['item_id']\n",
    "\n",
    "df = pd.DataFrame()\n",
    "df['item_id'] = label.values\n",
    "df['deal_probability'] = pred\n",
    "\n",
    "df.to_csv('8_Ridge_pos+type.csv',index=False)"
   ]
  },
  {
   "cell_type": "code",
   "execution_count": 2,
   "metadata": {},
   "outputs": [
    {
     "name": "stdout",
     "output_type": "stream",
     "text": [
      "Wall time: 36.3 s\n"
     ]
    }
   ],
   "source": [
    "train = hstack([scipy.sparse.load_npz('D:/data/train_pos_tfidf100.npz'), \n",
    "                scipy.sparse.load_npz('D:/data/train_type_tfidf200.npz')])\n",
    "from sklearn.linear_model import LinearRegression\n",
    "y = pd.read_csv('D:/train.csv')['deal_probability']\n",
    "model = LinearRegression(normalize=True, copy_X=False)\n",
    "%time model.fit(train, y)\n",
    "del train\n",
    "\n",
    "test = hstack([scipy.sparse.load_npz('D:/data/test_pos_tfidf200.npz'), \n",
    "                scipy.sparse.load_npz('D:/data/test_type_tfidf200.npz')])\n",
    "pred = model.predict(test)\n",
    "\n",
    "pred[pred < 0] = 0\n",
    "pred[pred > 1] = 1\n",
    "\n",
    "label = pd.read_csv('D:/test.csv')['item_id']\n",
    "\n",
    "df = pd.DataFrame()\n",
    "df['item_id'] = label.values\n",
    "df['deal_probability'] = pred\n",
    "\n",
    "df.to_csv('8_Linear_pos+type.csv',index=False)"
   ]
  },
  {
   "cell_type": "code",
   "execution_count": null,
   "metadata": {},
   "outputs": [],
   "source": [
    "model.coef_"
   ]
  },
  {
   "cell_type": "code",
   "execution_count": 2,
   "metadata": {},
   "outputs": [
    {
     "name": "stdout",
     "output_type": "stream",
     "text": [
      "Wall time: 1min 13s\n"
     ]
    }
   ],
   "source": [
    "train = hstack([scipy.sparse.load_npz('D:/data/train_pos_tfidf200.npz'), \n",
    "                scipy.sparse.load_npz('D:/data/train_type_tfidf200.npz')])\n",
    "from sklearn.linear_model import LinearRegression\n",
    "y = pd.read_csv('D:/train.csv')['deal_probability']\n",
    "model = LinearRegression(normalize=True, copy_X=False)\n",
    "%time model.fit(train, y)\n",
    "del train\n",
    "\n",
    "test = hstack([scipy.sparse.load_npz('D:/data/test_pos_tfidf200.npz'), \n",
    "                scipy.sparse.load_npz('D:/data/test_type_tfidf200.npz')])\n",
    "pred = model.predict(test)\n",
    "\n",
    "pred[pred < 0] = 0\n",
    "pred[pred > 1] = 1\n",
    "\n",
    "label = pd.read_csv('D:/test.csv')['item_id']\n",
    "\n",
    "df = pd.DataFrame()\n",
    "df['item_id'] = label.values\n",
    "df['deal_probability'] = pred\n",
    "\n",
    "df.to_csv('9_Linear_pos+type200.csv',index=False)"
   ]
  },
  {
   "cell_type": "code",
   "execution_count": 2,
   "metadata": {},
   "outputs": [
    {
     "name": "stdout",
     "output_type": "stream",
     "text": [
      "Wall time: 34.8 s\n"
     ]
    }
   ],
   "source": [
    "train = hstack([scipy.sparse.load_npz('D:/data/train_pos_tfidf200.npz'), \n",
    "                scipy.sparse.load_npz('D:/data/train_type_tfidf200.npz')])\n",
    "from sklearn.linear_model import Ridge\n",
    "y = pd.read_csv('D:/train.csv')['deal_probability']\n",
    "model = Ridge(normalize=True, copy_X=False, random_state=23)\n",
    "%time model.fit(train, y)\n",
    "del train\n",
    "\n",
    "test = hstack([scipy.sparse.load_npz('D:/data/test_pos_tfidf200.npz'), \n",
    "                scipy.sparse.load_npz('D:/data/test_type_tfidf200.npz')])\n",
    "pred = model.predict(test)\n",
    "\n",
    "pred[pred < 0] = 0\n",
    "pred[pred > 1] = 1\n",
    "\n",
    "label = pd.read_csv('D:/test.csv')['item_id']\n",
    "\n",
    "df = pd.DataFrame()\n",
    "df['item_id'] = label.values\n",
    "df['deal_probability'] = pred\n",
    "\n",
    "df.to_csv('10_Ridge_pos+type200.csv',index=False)"
   ]
  },
  {
   "cell_type": "code",
   "execution_count": 2,
   "metadata": {},
   "outputs": [
    {
     "name": "stdout",
     "output_type": "stream",
     "text": [
      "Wall time: 19min 2s\n"
     ]
    }
   ],
   "source": [
    "train = hstack([scipy.sparse.load_npz('D:/data/train_pos_tfidf200.npz'), \n",
    "                scipy.sparse.load_npz('D:/data/train_type_tfidf200.npz'),\n",
    "               scipy.sparse.load_npz('D:/data/train_td_tfidf20000.npz'), \n",
    "                scipy.sparse.load_npz('D:/data/train_tt_tfidf2000.npz'),\n",
    "                scipy.sparse.load_npz('D:/train12.npz')])\n",
    "from sklearn.linear_model import LinearRegression\n",
    "y = pd.read_csv('D:/train.csv')['deal_probability']\n",
    "model = LinearRegression(normalize=True, copy_X=False)\n",
    "%time model.fit(train, y)\n",
    "del train\n",
    "\n",
    "test = hstack([scipy.sparse.load_npz('D:/data/test_pos_tfidf200.npz'), \n",
    "                scipy.sparse.load_npz('D:/data/test_type_tfidf200.npz'),\n",
    "              scipy.sparse.load_npz('D:/data/test_td_tfidf20000.npz'), \n",
    "                scipy.sparse.load_npz('D:/data/test_tt_tfidf2000.npz'),\n",
    "              scipy.sparse.load_npz('D:/test12.npz')])\n",
    "pred = model.predict(test)\n",
    "\n",
    "pred[pred < 0] = 0\n",
    "pred[pred > 1] = 1\n",
    "\n",
    "label = pd.read_csv('D:/test.csv')['item_id']\n",
    "\n",
    "df = pd.DataFrame()\n",
    "df['item_id'] = label.values\n",
    "df['deal_probability'] = pred\n",
    "\n",
    "df.to_csv('9_Linear_pos+type200.csv',index=False)"
   ]
  },
  {
   "cell_type": "markdown",
   "metadata": {},
   "source": [
    "** New data **"
   ]
  },
  {
   "cell_type": "code",
   "execution_count": 1,
   "metadata": {},
   "outputs": [],
   "source": [
    "import scipy.sparse\n",
    "import pandas as pd"
   ]
  },
  {
   "cell_type": "code",
   "execution_count": 2,
   "metadata": {},
   "outputs": [
    {
     "name": "stdout",
     "output_type": "stream",
     "text": [
      "Wall time: 1h 3min 56s\n"
     ]
    }
   ],
   "source": [
    "train = scipy.sparse.load_npz('D:/data/train.npz')\n",
    "\n",
    "from sklearn.linear_model import LinearRegression\n",
    "y = pd.read_csv('D:/train.csv')['deal_probability']\n",
    "model = LinearRegression(normalize=True, copy_X=False)\n",
    "%time model.fit(train, y)\n",
    "del train\n",
    "\n",
    "test = scipy.sparse.load_npz('D:/data/test.npz')\n",
    "\n",
    "pred = model.predict(test)\n",
    "\n",
    "pred[pred < 0] = 0\n",
    "pred[pred > 1] = 1\n",
    "\n",
    "label = pd.read_csv('D:/test.csv')['item_id']\n",
    "\n",
    "df = pd.DataFrame()\n",
    "df['item_id'] = label.values\n",
    "df['deal_probability'] = pred\n",
    "\n",
    "df.to_csv('12_Linear_joined.csv',index=False)"
   ]
  },
  {
   "cell_type": "markdown",
   "metadata": {},
   "source": [
    "** XGBoost **"
   ]
  },
  {
   "cell_type": "code",
   "execution_count": 1,
   "metadata": {},
   "outputs": [],
   "source": [
    "import xgboost"
   ]
  },
  {
   "cell_type": "code",
   "execution_count": 2,
   "metadata": {},
   "outputs": [],
   "source": [
    "import scipy.sparse\n",
    "#train = scipy.sparse.load_npz('D:/data/train.npz')\n",
    "train = scipy.sparse.hstack([scipy.sparse.load_npz('D:/data/train_pos_tfidf200.npz'), \n",
    "                scipy.sparse.load_npz('D:/data/train_type_tfidf200.npz')])"
   ]
  },
  {
   "cell_type": "code",
   "execution_count": 3,
   "metadata": {},
   "outputs": [],
   "source": [
    "import pandas as pd\n",
    "y = pd.read_csv('D:/train.csv')['deal_probability']"
   ]
  },
  {
   "cell_type": "code",
   "execution_count": 8,
   "metadata": {},
   "outputs": [],
   "source": [
    "xgb = xgboost.XGBRegressor(eval_metric='rmse',\n",
    "                           n_estimators=100, \n",
    "                           learning_rate=0.08, \n",
    "                           #gamma=0, \n",
    "                           subsample=0.1,\n",
    "                           #colsample_bytree=1, \n",
    "                           objective='reg:logistic',\n",
    "                          verbose_eval=5,\n",
    "                          random_state=23,\n",
    "                          n_jobs=3)#,\n",
    "                           #max_depth=7)"
   ]
  },
  {
   "cell_type": "code",
   "execution_count": 9,
   "metadata": {},
   "outputs": [
    {
     "data": {
      "text/plain": [
       "XGBRegressor(base_score=0.5, booster='gbtree', colsample_bylevel=1,\n",
       "       colsample_bytree=1, eval_metric='rmse', gamma=0, learning_rate=0.08,\n",
       "       max_delta_step=0, max_depth=3, min_child_weight=1, missing=None,\n",
       "       n_estimators=100, n_jobs=3, nthread=None, objective='reg:logistic',\n",
       "       random_state=23, reg_alpha=0, reg_lambda=1, scale_pos_weight=1,\n",
       "       seed=None, silent=True, subsample=0.1, verbose_eval=5)"
      ]
     },
     "execution_count": 9,
     "metadata": {},
     "output_type": "execute_result"
    }
   ],
   "source": [
    "xgb"
   ]
  },
  {
   "cell_type": "code",
   "execution_count": 10,
   "metadata": {},
   "outputs": [
    {
     "name": "stdout",
     "output_type": "stream",
     "text": [
      "Wall time: 16min 21s\n"
     ]
    },
    {
     "data": {
      "text/plain": [
       "XGBRegressor(base_score=0.5, booster='gbtree', colsample_bylevel=1,\n",
       "       colsample_bytree=1, eval_metric='rmse', gamma=0, learning_rate=0.08,\n",
       "       max_delta_step=0, max_depth=3, min_child_weight=1, missing=None,\n",
       "       n_estimators=100, n_jobs=3, nthread=None, objective='reg:logistic',\n",
       "       random_state=23, reg_alpha=0, reg_lambda=1, scale_pos_weight=1,\n",
       "       seed=None, silent=True, subsample=0.1, verbose_eval=5)"
      ]
     },
     "execution_count": 10,
     "metadata": {},
     "output_type": "execute_result"
    }
   ],
   "source": [
    "%time xgb.fit(train, y)"
   ]
  },
  {
   "cell_type": "code",
   "execution_count": 12,
   "metadata": {},
   "outputs": [],
   "source": [
    "del train"
   ]
  },
  {
   "cell_type": "code",
   "execution_count": 14,
   "metadata": {},
   "outputs": [],
   "source": [
    "test = scipy.sparse.hstack([scipy.sparse.load_npz('D:/data/test_pos_tfidf200.npz'), \n",
    "                scipy.sparse.load_npz('D:/data/test_type_tfidf200.npz')])\n",
    "pred = xgb.predict(test)\n",
    "\n",
    "pred[pred < 0] = 0\n",
    "pred[pred > 1] = 1\n",
    "\n",
    "label = pd.read_csv('D:/test.csv')['item_id']\n",
    "\n",
    "df = pd.DataFrame()\n",
    "df['item_id'] = label.values\n",
    "df['deal_probability'] = pred\n",
    "\n",
    "df.to_csv('11_xgb_pos+type.csv',index=False)"
   ]
  },
  {
   "cell_type": "code",
   "execution_count": 2,
   "metadata": {},
   "outputs": [],
   "source": [
    "from sklearn.feature_selection import SelectKBest\n",
    "from sklearn.feature_selection import mutual_info_regression\n",
    "import scipy.sparse\n",
    "import pandas as pd"
   ]
  },
  {
   "cell_type": "code",
   "execution_count": null,
   "metadata": {},
   "outputs": [],
   "source": [
    "train = scipy.sparse.load_npz('D:/data/train.npz')\n",
    "y = pd.read_csv('D:/train.csv')['deal_probability']\n",
    "kbest = SelectKBest(mutual_info_regression, k=2000)\n",
    "%time train = kbest.fit_transform(train, y)"
   ]
  },
  {
   "cell_type": "code",
   "execution_count": 1,
   "metadata": {},
   "outputs": [],
   "source": [
    "import xgboost\n",
    "import scipy.sparse\n",
    "train = scipy.sparse.load_npz('D:/data/train.npz')\n",
    "#train = scipy.sparse.hstack([scipy.sparse.load_npz('D:/data/train_pos_tfidf200.npz'), \n",
    "#                scipy.sparse.load_npz('D:/data/train_type_tfidf200.npz')])\n",
    "import pandas as pd\n",
    "y = pd.read_csv('D:/train.csv')['deal_probability']\n",
    "xgb = xgboost.XGBRegressor(eval_metric='rmse',\n",
    "                           n_estimators=100, \n",
    "                           learning_rate=0.08, \n",
    "                           #gamma=0, \n",
    "                           subsample=0.1,\n",
    "                           colsample_bytree=0.01, \n",
    "                           objective='reg:logistic',\n",
    "                          verbose_eval=5,\n",
    "                          random_state=23,\n",
    "                          n_jobs=3)#,\n",
    "                           #max_depth=7)"
   ]
  },
  {
   "cell_type": "code",
   "execution_count": null,
   "metadata": {},
   "outputs": [],
   "source": [
    "%time xgb.fit(train, y)\n",
    "\n",
    "del train\n",
    "test = scipy.sparse.load_npz('D:/data/test.npz')\n",
    "pred = xgb.predict(test)\n",
    "\n",
    "pred[pred < 0] = 0\n",
    "pred[pred > 1] = 1\n",
    "\n",
    "label = pd.read_csv('D:/test.csv')['item_id']\n",
    "\n",
    "df = pd.DataFrame()\n",
    "df['item_id'] = label.values\n",
    "df['deal_probability'] = pred\n",
    "\n",
    "df.to_csv('11_xgb_pos+type.csv',index=False)"
   ]
  },
  {
   "cell_type": "code",
   "execution_count": null,
   "metadata": {},
   "outputs": [
    {
     "name": "stderr",
     "output_type": "stream",
     "text": [
      "C:\\Users\\Glaz\\Anaconda3\\lib\\site-packages\\sklearn\\model_selection\\_split.py:2026: FutureWarning: From version 0.21, test_size will always complement train_size unless both are specified.\n",
      "  FutureWarning)\n"
     ]
    }
   ],
   "source": [
    "from sklearn.model_selection import train_test_split\n",
    "\n",
    "import xgboost\n",
    "import scipy.sparse\n",
    "#train = scipy.sparse.load_npz('D:/data/train.npz')\n",
    "train = scipy.sparse.load_npz('D:/data/train.npz')\n",
    "import pandas as pd\n",
    "y = pd.read_csv('D:/train.csv')['deal_probability']\n",
    "train, y = train_test_split(train, y, train_size=0.1, random_state=23)\n",
    "xgb = xgboost.XGBRegressor(eval_metric='rmse',\n",
    "                           n_estimators=100, \n",
    "                           learning_rate=0.08, \n",
    "                           #gamma=0, \n",
    "                           subsample=0.1,\n",
    "                           #colsample_bytree=1, \n",
    "                           objective='reg:logistic',\n",
    "                          verbose_eval=5,\n",
    "                          random_state=23,\n",
    "                          n_jobs=3)#,\n",
    "                           #max_depth=7)"
   ]
  },
  {
   "cell_type": "code",
   "execution_count": null,
   "metadata": {},
   "outputs": [],
   "source": [
    "%time xgb.fit(train, y)"
   ]
  },
  {
   "cell_type": "code",
   "execution_count": null,
   "metadata": {},
   "outputs": [],
   "source": [
    "del train\n",
    "test = scipy.sparse.hstack([scipy.sparse.load_npz('D:/data/test_pos_tfidf200.npz'), \n",
    "                scipy.sparse.load_npz('D:/data/test_type_tfidf200.npz')])\n",
    "pred = xgb.predict(test)\n",
    "\n",
    "pred[pred < 0] = 0\n",
    "pred[pred > 1] = 1\n",
    "\n",
    "label = pd.read_csv('D:/test.csv')['item_id']\n",
    "\n",
    "df = pd.DataFrame()\n",
    "df['item_id'] = label.values\n",
    "df['deal_probability'] = pred\n",
    "\n",
    "df.to_csv('11_xgb_pos+type.csv',index=False)"
   ]
  }
 ],
 "metadata": {
  "kernelspec": {
   "display_name": "Python 3",
   "language": "python",
   "name": "python3"
  },
  "language_info": {
   "codemirror_mode": {
    "name": "ipython",
    "version": 3
   },
   "file_extension": ".py",
   "mimetype": "text/x-python",
   "name": "python",
   "nbconvert_exporter": "python",
   "pygments_lexer": "ipython3",
   "version": "3.6.5"
  }
 },
 "nbformat": 4,
 "nbformat_minor": 2
}
