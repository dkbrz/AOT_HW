{
 "cells": [
  {
   "cell_type": "markdown",
   "metadata": {},
   "source": [
    "# Домашнее задание 1"
   ]
  },
  {
   "cell_type": "code",
   "execution_count": 8,
   "metadata": {
    "collapsed": true
   },
   "outputs": [],
   "source": [
    "import os\n",
    "import re\n",
    "from pymystem3 import Mystem\n",
    "import string\n",
    "import nltk\n",
    "import numpy as np\n",
    "import pandas as pd\n",
    "from datetime import datetime"
   ]
  },
  {
   "cell_type": "markdown",
   "metadata": {},
   "source": [
    "## Коллекция"
   ]
  },
  {
   "cell_type": "code",
   "execution_count": 76,
   "metadata": {
    "collapsed": true
   },
   "outputs": [],
   "source": [
    "mystem = Mystem()"
   ]
  },
  {
   "cell_type": "code",
   "execution_count": 77,
   "metadata": {
    "collapsed": true
   },
   "outputs": [],
   "source": [
    "string.punctuation = string.punctuation.replace('-','')"
   ]
  },
  {
   "cell_type": "code",
   "execution_count": 85,
   "metadata": {
    "collapsed": true
   },
   "outputs": [],
   "source": [
    "def preprocessing(text):\n",
    "    text = re.sub('(Автор|Регион):.*?\\n','', text)\n",
    "    text = re.sub('[0-9\\n]','', text)\n",
    "    text = re.sub('['+string.punctuation+']', '', text)\n",
    "    text = ''.join(mystem.lemmatize(text.strip()))\n",
    "    return text"
   ]
  },
  {
   "cell_type": "code",
   "execution_count": 86,
   "metadata": {
    "collapsed": false
   },
   "outputs": [],
   "source": [
    "data = pd.DataFrame(columns=['file', 'text'])"
   ]
  },
  {
   "cell_type": "code",
   "execution_count": 87,
   "metadata": {
    "collapsed": false
   },
   "outputs": [],
   "source": [
    "path = '.\\\\data\\\\'"
   ]
  },
  {
   "cell_type": "code",
   "execution_count": 88,
   "metadata": {
    "collapsed": false
   },
   "outputs": [
    {
     "name": "stdout",
     "output_type": "stream",
     "text": [
      "Total time: 0:31:43.948500\n"
     ]
    }
   ],
   "source": [
    "start = datetime.now()\n",
    "for root, dirs, files in os.walk (path):\n",
    "    for fl in files:\n",
    "        #print (fl)\n",
    "        with open(path+fl, 'r', encoding = 'utf-8') as f:\n",
    "            text = f.read()\n",
    "        data = data.append({'file': fl, 'text': preprocessing(text)}, ignore_index=True)\n",
    "print ('Total time: {}'.format(datetime.now()-start))"
   ]
  },
  {
   "cell_type": "code",
   "execution_count": 102,
   "metadata": {
    "collapsed": false
   },
   "outputs": [
    {
     "data": {
      "text/html": [
       "<div>\n",
       "<table border=\"1\" class=\"dataframe\">\n",
       "  <thead>\n",
       "    <tr style=\"text-align: right;\">\n",
       "      <th></th>\n",
       "      <th>file</th>\n",
       "      <th>text</th>\n",
       "    </tr>\n",
       "  </thead>\n",
       "  <tbody>\n",
       "    <tr>\n",
       "      <th>0</th>\n",
       "      <td>100_10.txt</td>\n",
       "      <td>известие московский выпуск     трансляция суде...</td>\n",
       "    </tr>\n",
       "    <tr>\n",
       "      <th>1</th>\n",
       "      <td>100_2.txt</td>\n",
       "      <td>российский газета           депутат продолжать...</td>\n",
       "    </tr>\n",
       "    <tr>\n",
       "      <th>2</th>\n",
       "      <td>100_9.txt</td>\n",
       "      <td>известие     илья пономарев грозить арест имущ...</td>\n",
       "    </tr>\n",
       "    <tr>\n",
       "      <th>3</th>\n",
       "      <td>101_1.txt</td>\n",
       "      <td>известие москва     дмитрий медведев менять си...</td>\n",
       "    </tr>\n",
       "    <tr>\n",
       "      <th>4</th>\n",
       "      <td>101_10.txt</td>\n",
       "      <td>коммерсант    начинать первый уголовный пресле...</td>\n",
       "    </tr>\n",
       "  </tbody>\n",
       "</table>\n",
       "</div>"
      ],
      "text/plain": [
       "         file                                               text\n",
       "0  100_10.txt  известие московский выпуск     трансляция суде...\n",
       "1   100_2.txt  российский газета           депутат продолжать...\n",
       "2   100_9.txt  известие     илья пономарев грозить арест имущ...\n",
       "3   101_1.txt  известие москва     дмитрий медведев менять си...\n",
       "4  101_10.txt  коммерсант    начинать первый уголовный пресле..."
      ]
     },
     "execution_count": 102,
     "metadata": {},
     "output_type": "execute_result"
    }
   ],
   "source": [
    "data.head()"
   ]
  },
  {
   "cell_type": "code",
   "execution_count": null,
   "metadata": {
    "collapsed": true
   },
   "outputs": [],
   "source": [
    "import pickle as pkl"
   ]
  },
  {
   "cell_type": "code",
   "execution_count": 99,
   "metadata": {
    "collapsed": true
   },
   "outputs": [],
   "source": [
    "with open('data.pkl', 'wb') as f:\n",
    "    pkl.dump(data, f)"
   ]
  },
  {
   "cell_type": "code",
   "execution_count": 101,
   "metadata": {
    "collapsed": true
   },
   "outputs": [],
   "source": [
    "with open('data.pkl', 'rb') as f:\n",
    "    data = pkl.load(f)"
   ]
  },
  {
   "cell_type": "code",
   "execution_count": 96,
   "metadata": {
    "collapsed": true
   },
   "outputs": [],
   "source": [
    "def tabs(x):\n",
    "    return re.sub('\\t','', x)"
   ]
  },
  {
   "cell_type": "code",
   "execution_count": 97,
   "metadata": {
    "collapsed": true
   },
   "outputs": [],
   "source": [
    "data['text'] = data['text'].apply(tabs)"
   ]
  },
  {
   "cell_type": "code",
   "execution_count": 103,
   "metadata": {
    "collapsed": true
   },
   "outputs": [],
   "source": [
    "def load_frequency():\n",
    "    freq_dict = {}\n",
    "    with open ('.//freqrnc2011.csv','r', encoding='utf-8') as f:\n",
    "        w = f.readlines()\n",
    "    for i in w:\n",
    "        s = i.strip().split('\\t')\n",
    "        if s[0] not in freq_dict:\n",
    "            freq_dict[s[0].lower()] = float(s[1])\n",
    "    return freq_dict\n",
    "freq_dict = load_frequency()"
   ]
  },
  {
   "cell_type": "code",
   "execution_count": 104,
   "metadata": {
    "collapsed": false
   },
   "outputs": [
    {
     "name": "stdout",
     "output_type": "stream",
     "text": [
      "12684.4\n"
     ]
    }
   ],
   "source": [
    "print (freq_dict['я'])"
   ]
  },
  {
   "cell_type": "code",
   "execution_count": 105,
   "metadata": {
    "collapsed": true
   },
   "outputs": [],
   "source": [
    "from sklearn.feature_extraction.text import TfidfVectorizer"
   ]
  },
  {
   "cell_type": "code",
   "execution_count": 110,
   "metadata": {
    "collapsed": true
   },
   "outputs": [],
   "source": [
    "tfidf_vectorizer = TfidfVectorizer(use_idf=True,\n",
    "                                   stop_words=nltk.corpus.stopwords.words('russian'),\n",
    "                                   analyzer ='word'\n",
    "                                  )"
   ]
  },
  {
   "cell_type": "code",
   "execution_count": 111,
   "metadata": {
    "collapsed": false
   },
   "outputs": [],
   "source": [
    "tfidf_matrix = tfidf_vectorizer.fit_transform(data['text'])"
   ]
  },
  {
   "cell_type": "code",
   "execution_count": 112,
   "metadata": {
    "collapsed": true
   },
   "outputs": [],
   "source": [
    "with open('tfidf_matrix.pkl', 'wb') as f:\n",
    "    pkl.dump(tfidf_matrix, f)"
   ]
  },
  {
   "cell_type": "code",
   "execution_count": 113,
   "metadata": {
    "collapsed": false
   },
   "outputs": [
    {
     "data": {
      "text/plain": [
       "(1228, 38314)"
      ]
     },
     "execution_count": 113,
     "metadata": {},
     "output_type": "execute_result"
    }
   ],
   "source": [
    "tfidf_matrix.shape"
   ]
  },
  {
   "cell_type": "code",
   "execution_count": 119,
   "metadata": {
    "collapsed": false
   },
   "outputs": [
    {
     "data": {
      "text/plain": [
       "array([6.72766175, 7.01534382, 7.42080893, ..., 4.85585957, 7.42080893,\n",
       "       6.72766175])"
      ]
     },
     "execution_count": 119,
     "metadata": {},
     "output_type": "execute_result"
    }
   ],
   "source": [
    "tfidf_vectorizer.idf_"
   ]
  },
  {
   "cell_type": "code",
   "execution_count": 120,
   "metadata": {
    "collapsed": false
   },
   "outputs": [
    {
     "data": {
      "text/plain": [
       "(38314,)"
      ]
     },
     "execution_count": 120,
     "metadata": {},
     "output_type": "execute_result"
    }
   ],
   "source": [
    "tfidf_vectorizer.idf_.shape"
   ]
  },
  {
   "cell_type": "markdown",
   "metadata": {},
   "source": [
    "## TF_IDF матрица для первых 5 документов"
   ]
  },
  {
   "cell_type": "code",
   "execution_count": 139,
   "metadata": {
    "collapsed": true
   },
   "outputs": [],
   "source": [
    "matrix_5 = tfidf_vectorizer.transform(data['text'][0:5], copy=True)"
   ]
  },
  {
   "cell_type": "code",
   "execution_count": 142,
   "metadata": {
    "collapsed": true
   },
   "outputs": [],
   "source": [
    "data_5 = pd.DataFrame(matrix_5.todense())"
   ]
  },
  {
   "cell_type": "code",
   "execution_count": 143,
   "metadata": {
    "collapsed": false
   },
   "outputs": [],
   "source": [
    "data_5.to_csv('1.csv', sep='\\t')"
   ]
  },
  {
   "cell_type": "code",
   "execution_count": 144,
   "metadata": {
    "collapsed": false
   },
   "outputs": [
    {
     "data": {
      "text/plain": [
       "RangeIndex(start=0, stop=38314, step=1)"
      ]
     },
     "execution_count": 144,
     "metadata": {},
     "output_type": "execute_result"
    }
   ],
   "source": [
    "data_5.columns"
   ]
  },
  {
   "cell_type": "code",
   "execution_count": 145,
   "metadata": {
    "collapsed": false
   },
   "outputs": [],
   "source": [
    "data_5.columns = tfidf_vectorizer.get_feature_names()"
   ]
  },
  {
   "cell_type": "code",
   "execution_count": 154,
   "metadata": {
    "collapsed": false
   },
   "outputs": [
    {
     "data": {
      "text/html": [
       "<div>\n",
       "<table border=\"1\" class=\"dataframe\">\n",
       "  <thead>\n",
       "    <tr style=\"text-align: right;\">\n",
       "      <th></th>\n",
       "      <th>ddos</th>\n",
       "      <th>inbister</th>\n",
       "      <th>nirvana</th>\n",
       "      <th>spice</th>\n",
       "      <th>spravsibru</th>\n",
       "      <th>sro</th>\n",
       "      <th>ава</th>\n",
       "      <th>август</th>\n",
       "      <th>австралия</th>\n",
       "      <th>австрия</th>\n",
       "      <th>...</th>\n",
       "      <th>юридический</th>\n",
       "      <th>юрий</th>\n",
       "      <th>юрисдикция</th>\n",
       "      <th>юстиция</th>\n",
       "      <th>являться</th>\n",
       "      <th>якобы</th>\n",
       "      <th>яковлев</th>\n",
       "      <th>яна</th>\n",
       "      <th>январь</th>\n",
       "      <th>япония</th>\n",
       "    </tr>\n",
       "  </thead>\n",
       "  <tbody>\n",
       "    <tr>\n",
       "      <th>0</th>\n",
       "      <td>0.059466</td>\n",
       "      <td>0.000000</td>\n",
       "      <td>0.000000</td>\n",
       "      <td>0.000000</td>\n",
       "      <td>0.000000</td>\n",
       "      <td>0.000000</td>\n",
       "      <td>0.000000</td>\n",
       "      <td>0.019412</td>\n",
       "      <td>0.000000</td>\n",
       "      <td>0.000000</td>\n",
       "      <td>...</td>\n",
       "      <td>0.018047</td>\n",
       "      <td>0.000000</td>\n",
       "      <td>0.000000</td>\n",
       "      <td>0.000000</td>\n",
       "      <td>0.012010</td>\n",
       "      <td>0.000000</td>\n",
       "      <td>0.028119</td>\n",
       "      <td>0.02928</td>\n",
       "      <td>0.00000</td>\n",
       "      <td>0.000000</td>\n",
       "    </tr>\n",
       "    <tr>\n",
       "      <th>1</th>\n",
       "      <td>0.000000</td>\n",
       "      <td>0.052041</td>\n",
       "      <td>0.000000</td>\n",
       "      <td>0.000000</td>\n",
       "      <td>0.000000</td>\n",
       "      <td>0.052041</td>\n",
       "      <td>0.049198</td>\n",
       "      <td>0.026172</td>\n",
       "      <td>0.000000</td>\n",
       "      <td>0.000000</td>\n",
       "      <td>...</td>\n",
       "      <td>0.000000</td>\n",
       "      <td>0.000000</td>\n",
       "      <td>0.000000</td>\n",
       "      <td>0.000000</td>\n",
       "      <td>0.032383</td>\n",
       "      <td>0.000000</td>\n",
       "      <td>0.000000</td>\n",
       "      <td>0.00000</td>\n",
       "      <td>0.00000</td>\n",
       "      <td>0.000000</td>\n",
       "    </tr>\n",
       "    <tr>\n",
       "      <th>2</th>\n",
       "      <td>0.000000</td>\n",
       "      <td>0.000000</td>\n",
       "      <td>0.000000</td>\n",
       "      <td>0.000000</td>\n",
       "      <td>0.045028</td>\n",
       "      <td>0.000000</td>\n",
       "      <td>0.000000</td>\n",
       "      <td>0.023953</td>\n",
       "      <td>0.000000</td>\n",
       "      <td>0.000000</td>\n",
       "      <td>...</td>\n",
       "      <td>0.000000</td>\n",
       "      <td>0.065728</td>\n",
       "      <td>0.000000</td>\n",
       "      <td>0.000000</td>\n",
       "      <td>0.029638</td>\n",
       "      <td>0.022087</td>\n",
       "      <td>0.000000</td>\n",
       "      <td>0.00000</td>\n",
       "      <td>0.00000</td>\n",
       "      <td>0.000000</td>\n",
       "    </tr>\n",
       "    <tr>\n",
       "      <th>3</th>\n",
       "      <td>0.000000</td>\n",
       "      <td>0.000000</td>\n",
       "      <td>0.000000</td>\n",
       "      <td>0.000000</td>\n",
       "      <td>0.000000</td>\n",
       "      <td>0.000000</td>\n",
       "      <td>0.000000</td>\n",
       "      <td>0.000000</td>\n",
       "      <td>0.000000</td>\n",
       "      <td>0.000000</td>\n",
       "      <td>...</td>\n",
       "      <td>0.000000</td>\n",
       "      <td>0.000000</td>\n",
       "      <td>0.083856</td>\n",
       "      <td>0.037953</td>\n",
       "      <td>0.000000</td>\n",
       "      <td>0.000000</td>\n",
       "      <td>0.000000</td>\n",
       "      <td>0.00000</td>\n",
       "      <td>0.02453</td>\n",
       "      <td>0.000000</td>\n",
       "    </tr>\n",
       "    <tr>\n",
       "      <th>4</th>\n",
       "      <td>0.000000</td>\n",
       "      <td>0.000000</td>\n",
       "      <td>0.127669</td>\n",
       "      <td>0.127669</td>\n",
       "      <td>0.000000</td>\n",
       "      <td>0.000000</td>\n",
       "      <td>0.000000</td>\n",
       "      <td>0.000000</td>\n",
       "      <td>0.030631</td>\n",
       "      <td>0.033327</td>\n",
       "      <td>...</td>\n",
       "      <td>0.000000</td>\n",
       "      <td>0.000000</td>\n",
       "      <td>0.000000</td>\n",
       "      <td>0.000000</td>\n",
       "      <td>0.026481</td>\n",
       "      <td>0.000000</td>\n",
       "      <td>0.000000</td>\n",
       "      <td>0.00000</td>\n",
       "      <td>0.00000</td>\n",
       "      <td>0.026309</td>\n",
       "    </tr>\n",
       "  </tbody>\n",
       "</table>\n",
       "<p>5 rows × 1186 columns</p>\n",
       "</div>"
      ],
      "text/plain": [
       "       ddos  inbister   nirvana     spice  spravsibru       sro       ава  \\\n",
       "0  0.059466  0.000000  0.000000  0.000000    0.000000  0.000000  0.000000   \n",
       "1  0.000000  0.052041  0.000000  0.000000    0.000000  0.052041  0.049198   \n",
       "2  0.000000  0.000000  0.000000  0.000000    0.045028  0.000000  0.000000   \n",
       "3  0.000000  0.000000  0.000000  0.000000    0.000000  0.000000  0.000000   \n",
       "4  0.000000  0.000000  0.127669  0.127669    0.000000  0.000000  0.000000   \n",
       "\n",
       "     август  австралия   австрия    ...     юридический      юрий  юрисдикция  \\\n",
       "0  0.019412   0.000000  0.000000    ...        0.018047  0.000000    0.000000   \n",
       "1  0.026172   0.000000  0.000000    ...        0.000000  0.000000    0.000000   \n",
       "2  0.023953   0.000000  0.000000    ...        0.000000  0.065728    0.000000   \n",
       "3  0.000000   0.000000  0.000000    ...        0.000000  0.000000    0.083856   \n",
       "4  0.000000   0.030631  0.033327    ...        0.000000  0.000000    0.000000   \n",
       "\n",
       "    юстиция  являться     якобы   яковлев      яна   январь    япония  \n",
       "0  0.000000  0.012010  0.000000  0.028119  0.02928  0.00000  0.000000  \n",
       "1  0.000000  0.032383  0.000000  0.000000  0.00000  0.00000  0.000000  \n",
       "2  0.000000  0.029638  0.022087  0.000000  0.00000  0.00000  0.000000  \n",
       "3  0.037953  0.000000  0.000000  0.000000  0.00000  0.02453  0.000000  \n",
       "4  0.000000  0.026481  0.000000  0.000000  0.00000  0.00000  0.026309  \n",
       "\n",
       "[5 rows x 1186 columns]"
      ]
     },
     "execution_count": 154,
     "metadata": {},
     "output_type": "execute_result"
    }
   ],
   "source": [
    "data_5.loc[:, (data_5 != 0).any(axis=0)]"
   ]
  },
  {
   "cell_type": "code",
   "execution_count": 155,
   "metadata": {
    "collapsed": true
   },
   "outputs": [],
   "source": [
    "data_5.loc[:, (data_5 != 0).any(axis=0)].to_csv('1.csv', sep='\\t')"
   ]
  },
  {
   "cell_type": "markdown",
   "metadata": {},
   "source": [
    "## Ключевые слова"
   ]
  },
  {
   "cell_type": "markdown",
   "metadata": {},
   "source": [
    "Пусть первый текст из коллекции"
   ]
  },
  {
   "cell_type": "code",
   "execution_count": 165,
   "metadata": {
    "collapsed": false
   },
   "outputs": [
    {
     "name": "stdout",
     "output_type": "stream",
     "text": [
      " Известия \n",
      " Автор: Герман Петелин \n",
      "   Генпрокуратура обжалует смягчение приговора педофилу Куваеву\n",
      "\"В понедельник Генпрокуратура внесет протест в Верховный суд на приговор педофилу Куваеву, который был смягчен\", -заявил \"Известиям\" источник в надзорном ведомстве. После протеста суд может пересмотреть приговор скандально известному 40-летнему педофилу и \"интернет-спамеру № 2 в мире\" Леониду Куваеву. В марте этого года он получил 20 лет лишения свободы за изнасилование несовершеннолетних воспитанниц детдомов. После чего Верховный суд \"снял\" с него 20 эпизодов из 35 и снизил ему срок вдвое. Генпрокуратура сочла это решение слишком мягким. \n",
      "Судебный процесс над Леонидом Куваевым стал самым громким за последние годы. Его считали вторым по известности интернет-спамером в мире. За миллионером и организатором многих DDoS-атак безуспешно охотились американские спецслужбы, однако он попался в России на совращении и изнасиловании детей. \n",
      "Суд установил, что Куваев знакомился с детьми, представляясь вымышленным именем Михаил, и втирался к ним в доверие. Он дарил девочкам недорогие подарки, водил в кафе и клубы, а потом предлагал вступить в половую связь за 1 тыс. рублей. В случае отказа бизнесмен насиловал девочек, а некоторых из них вовлекал в проституцию. \n",
      "Как было доказано в суде, развращать детей в России Куваев начал в мае 2006 года. Тогда педофил у станции метро \"Сокол\" уговорил сесть к себе в автомобиль 12-летнюю воспитанницу интерната. Развратник отвез девочку на пустырь к стадиону ЦСКА и изнасиловал ее. \n",
      "Впоследствии Куваев предложил девочке приводить к нему за вознаграждение своих подруг. Также девочек для утех Куваеву поставляла и другая его жертва - Ольга Ч., которая за пособничество получила 4,5 года условно. \n",
      "Педофил требовал от сводниц, чтобы они приводили к нему девочек с определенными параметрами: ниже его ростом, худеньких, весом около 40 килограммов и не старше 14 лет. \n",
      "- Сексуальные оргии с детьми педофил устраивал в своем офисе в Чапаевском переулке, - пояснила представитель Управления \"К\" МВД Лариса Жукова. \n",
      "По ее словам, в этом помещении, размещались сауна, джакузи, огромная кровать и барная стойка. Картины эротического содержания на стенах и приглушенный красный свет должны были раскрепощать \"гостей\". \n",
      "В общей сложности жертвами сексуальных домогательств педофила стали 11 девочек. \n",
      "15 сентября 2009 года Куваева арестовали оперативники Управления \"К\" МВД России. Из офиса, где проходили оргии, оперативники изъяли видеоматериалы с участием малолетних детей. Там же нашлись десятки дисков с порнографией. \n",
      "Однако Куваев свою вину так и не признал и использовал все свои связи и возможности, чтобы избежать наказания. \n",
      "Жена Куваева, узнав о его \"подвигах\", попыталась с ним развестись. Однако он убедил ее этого не делать, надеясь, что суд пойдет на снисхождение, поскольку у них есть малолетние дети. Позже супруга Куваева все же расторгла брак и сменила детям фамилию. \n",
      "Для своей защиты Леонид Куваев нанял около 20 адвокатов, которым платил до 300 тыс. рублей в месяц. Куваеву не удалось доказать суду свою невменяемость. \n",
      "После этого Куваев сменил тактику. Источник \"Известий\" в МВД рассказал, что на следователя неоднократно пытались выйти некие люди, которые предлагали ему несколько десятков тысяч долларов за развал дела. Когда следователь ответил отказом, Куваев буквально устроил его травлю. За два с половиной года он написал 250 жалоб на следователя, которые не подтвердились. Тогда же Куваев просил суд выпустить его на свободу под залог в 150 млн. рублей. \n",
      "Куваеву были предъявлены обвинения по целому ряду \"педофильских\" статей - \"Половое сношение с несовершеннолетними\", \"Вовлечение в занятие проституцией\", \"Изнасилование\". Ему инкриминировалось 60 эпизодов, однако до суда \"дошло\" лишь 35. \n",
      "23 марта 2012 года присяжные признали Куваева виновным по большинству эпизодов, а также частично заслуживающим снисхождения. Во время прений сторон прокурор запросил для педофила 22 года заключения. Мосгорсуд в целом согласился с мнением гособвинения и приговорил Куваева к 20 годам. \n",
      "Однако 23 августа 2012 года Верховный суд снизил наказание педофилу с 20 лет лишения свободы до 10 лет, посчитав, что по ряду эпизодов уже вышел срок давности. \n",
      "Куваев имеет скандальную репутацию не только в пределах России. В Америке его называли спамером № 2 в мире. По данным МВД и ФБР, в конце 1990-х он перебрался в США и занялся прибыльным бизнесом - незаконной рассылкой интернет-рекламы. Куваеву также приписывали организацию многих DDoS-атак на компьютерные системы. В 2006 году спецслужбы США возбудили против Куваева уголовное дело, а его компания была оштрафована судом Массачусетса на $37,5 млн. Сразу после этого он бежал из США в Россию.  \n",
      "15\n",
      " \n"
     ]
    }
   ],
   "source": [
    "with open ('.\\\\data\\\\100_10.txt','r', encoding = 'utf-8') as f:\n",
    "    text = f.read()\n",
    "    print (re.sub('[\\n]+', '\\n', text))"
   ]
  },
  {
   "cell_type": "code",
   "execution_count": 166,
   "metadata": {
    "collapsed": true
   },
   "outputs": [],
   "source": [
    "text = data['text'][0]"
   ]
  },
  {
   "cell_type": "code",
   "execution_count": 167,
   "metadata": {
    "collapsed": true
   },
   "outputs": [],
   "source": [
    "from collections import Counter"
   ]
  },
  {
   "cell_type": "code",
   "execution_count": 222,
   "metadata": {
    "collapsed": true
   },
   "outputs": [],
   "source": [
    "all_words = Counter(text.split())"
   ]
  },
  {
   "cell_type": "code",
   "execution_count": 197,
   "metadata": {
    "collapsed": false
   },
   "outputs": [],
   "source": [
    "matrix_1 = tfidf_vectorizer.transform([data['text'][0]], copy=True)\n",
    "data_1 = pd.DataFrame(matrix_1.todense())\n",
    "data_1.columns = tfidf_vectorizer.get_feature_names()"
   ]
  },
  {
   "cell_type": "code",
   "execution_count": 212,
   "metadata": {
    "collapsed": false
   },
   "outputs": [
    {
     "data": {
      "text/html": [
       "<div>\n",
       "<table border=\"1\" class=\"dataframe\">\n",
       "  <thead>\n",
       "    <tr style=\"text-align: right;\">\n",
       "      <th></th>\n",
       "      <th>аудио</th>\n",
       "      <th>верховный</th>\n",
       "      <th>видеозапись</th>\n",
       "      <th>воспитанница</th>\n",
       "      <th>генпрокуратура</th>\n",
       "      <th>год</th>\n",
       "      <th>головко</th>\n",
       "      <th>девочка</th>\n",
       "      <th>депутат</th>\n",
       "      <th>закон</th>\n",
       "      <th>...</th>\n",
       "      <th>следователь</th>\n",
       "      <th>снисхождение</th>\n",
       "      <th>спамер</th>\n",
       "      <th>стенографирование</th>\n",
       "      <th>суд</th>\n",
       "      <th>судебный</th>\n",
       "      <th>судья</th>\n",
       "      <th>трансляция</th>\n",
       "      <th>требовать</th>\n",
       "      <th>эпизод</th>\n",
       "    </tr>\n",
       "  </thead>\n",
       "  <tbody>\n",
       "    <tr>\n",
       "      <th>0</th>\n",
       "      <td>0.09233</td>\n",
       "      <td>0.066208</td>\n",
       "      <td>0.07303</td>\n",
       "      <td>0.06999</td>\n",
       "      <td>0.07303</td>\n",
       "      <td>0.092568</td>\n",
       "      <td>0.06999</td>\n",
       "      <td>0.156834</td>\n",
       "      <td>0.061243</td>\n",
       "      <td>0.086213</td>\n",
       "      <td>...</td>\n",
       "      <td>0.064661</td>\n",
       "      <td>0.06999</td>\n",
       "      <td>0.090686</td>\n",
       "      <td>0.06999</td>\n",
       "      <td>0.236621</td>\n",
       "      <td>0.108586</td>\n",
       "      <td>0.062468</td>\n",
       "      <td>0.093692</td>\n",
       "      <td>0.061125</td>\n",
       "      <td>0.099491</td>\n",
       "    </tr>\n",
       "  </tbody>\n",
       "</table>\n",
       "<p>1 rows × 39 columns</p>\n",
       "</div>"
      ],
      "text/plain": [
       "     аудио  верховный  видеозапись  воспитанница  генпрокуратура       год  \\\n",
       "0  0.09233   0.066208      0.07303       0.06999         0.07303  0.092568   \n",
       "\n",
       "   головко   девочка   депутат     закон    ...     следователь  снисхождение  \\\n",
       "0  0.06999  0.156834  0.061243  0.086213    ...        0.064661       0.06999   \n",
       "\n",
       "     спамер  стенографирование       суд  судебный     судья  трансляция  \\\n",
       "0  0.090686            0.06999  0.236621  0.108586  0.062468    0.093692   \n",
       "\n",
       "   требовать    эпизод  \n",
       "0   0.061125  0.099491  \n",
       "\n",
       "[1 rows x 39 columns]"
      ]
     },
     "execution_count": 212,
     "metadata": {},
     "output_type": "execute_result"
    }
   ],
   "source": [
    "data_1.loc[:, (data_1 > 0.06).any(axis=0)]"
   ]
  },
  {
   "cell_type": "code",
   "execution_count": 269,
   "metadata": {
    "collapsed": false
   },
   "outputs": [
    {
     "data": {
      "text/plain": [
       "0.08621309501763894"
      ]
     },
     "execution_count": 269,
     "metadata": {},
     "output_type": "execute_result"
    }
   ],
   "source": [
    "data_1['закон'][0]"
   ]
  },
  {
   "cell_type": "code",
   "execution_count": null,
   "metadata": {
    "collapsed": true
   },
   "outputs": [],
   "source": []
  },
  {
   "cell_type": "code",
   "execution_count": 198,
   "metadata": {
    "collapsed": false
   },
   "outputs": [
    {
     "data": {
      "text/plain": [
       "Index(['аудио', 'верховный', 'видеозапись', 'воспитанница', 'генпрокуратура',\n",
       "       'год', 'головко', 'девочка', 'депутат', 'закон', 'законопроект',\n",
       "       'заседание', 'игошин', 'известие', 'изнасилование', 'куваев', 'куваева',\n",
       "       'леонид', 'малолетний', 'мвд', 'несовершеннолетний', 'оргия', 'педофил',\n",
       "       'половой', 'приводить', 'приговор', 'проституция', 'ребенок', 'россия',\n",
       "       'следователь', 'снисхождение', 'спамер', 'стенографирование', 'суд',\n",
       "       'судебный', 'судья', 'трансляция', 'требовать', 'эпизод'],\n",
       "      dtype='object')"
      ]
     },
     "execution_count": 198,
     "metadata": {},
     "output_type": "execute_result"
    }
   ],
   "source": [
    "words = data_1.loc[:, (data_1 > 0.06).any(axis=0)].columns\n",
    "words"
   ]
  },
  {
   "cell_type": "code",
   "execution_count": 199,
   "metadata": {
    "collapsed": false
   },
   "outputs": [],
   "source": [
    "def freq(word):\n",
    "    if word in freq_dict:\n",
    "        return freq_dict[word]\n",
    "    else:\n",
    "        return 0\n",
    "\n",
    "freqs = [freq(word) for word in words]"
   ]
  },
  {
   "cell_type": "code",
   "execution_count": 210,
   "metadata": {
    "collapsed": false
   },
   "outputs": [],
   "source": [
    "#tf_idf = \n",
    "tf_idfs = [data_1.iloc(0)[0][data_1.iloc(0)[0]>0][word] for word in words]"
   ]
  },
  {
   "cell_type": "code",
   "execution_count": 232,
   "metadata": {
    "collapsed": false
   },
   "outputs": [
    {
     "data": {
      "text/plain": [
       "1240"
      ]
     },
     "execution_count": 232,
     "metadata": {},
     "output_type": "execute_result"
    }
   ],
   "source": [
    "total_text = len(text.split())\n",
    "total_text"
   ]
  },
  {
   "cell_type": "code",
   "execution_count": 243,
   "metadata": {
    "collapsed": true
   },
   "outputs": [],
   "source": [
    "tf = [all_words[word]/total_text*1000000 for word in words]"
   ]
  },
  {
   "cell_type": "code",
   "execution_count": 234,
   "metadata": {
    "collapsed": false
   },
   "outputs": [
    {
     "data": {
      "text/plain": [
       "764915"
      ]
     },
     "execution_count": 234,
     "metadata": {},
     "output_type": "execute_result"
    }
   ],
   "source": [
    "total = len(\" \".join(data[\"text\"]).split())\n",
    "total"
   ]
  },
  {
   "cell_type": "code",
   "execution_count": 235,
   "metadata": {
    "collapsed": true
   },
   "outputs": [],
   "source": [
    "df_all = Counter(\" \".join(data[\"text\"]).split())"
   ]
  },
  {
   "cell_type": "code",
   "execution_count": 236,
   "metadata": {
    "collapsed": false
   },
   "outputs": [
    {
     "data": {
      "text/plain": [
       "45613"
      ]
     },
     "execution_count": 236,
     "metadata": {},
     "output_type": "execute_result"
    }
   ],
   "source": [
    "len(df_all)"
   ]
  },
  {
   "cell_type": "code",
   "execution_count": 244,
   "metadata": {
    "collapsed": true
   },
   "outputs": [],
   "source": [
    "collection = [df_all[word]/total*1000000 for word in words]"
   ]
  },
  {
   "cell_type": "code",
   "execution_count": 250,
   "metadata": {
    "collapsed": false
   },
   "outputs": [],
   "source": [
    "key_words = pd.DataFrame({'word':words, \n",
    "                          'ipm_freq':freqs, \n",
    "                          'tfidf':tf_idfs, \n",
    "                          'ipm_tf':tf, \n",
    "                          'ipm_collection':collection, \n",
    "                          'abs_tf':np.array(tf)/1000000})\n",
    "key_words = key_words.sort_values(by=['tfidf'], ascending=False)\n",
    "key_words.to_csv('HW1_Glazunov_KeyWords.txt', index=False, sep='\\t')"
   ]
  },
  {
   "cell_type": "code",
   "execution_count": 251,
   "metadata": {
    "collapsed": false
   },
   "outputs": [
    {
     "data": {
      "text/html": [
       "<div>\n",
       "<table border=\"1\" class=\"dataframe\">\n",
       "  <thead>\n",
       "    <tr style=\"text-align: right;\">\n",
       "      <th></th>\n",
       "      <th>abs_tf</th>\n",
       "      <th>ipm_collection</th>\n",
       "      <th>ipm_freq</th>\n",
       "      <th>ipm_tf</th>\n",
       "      <th>tfidf</th>\n",
       "      <th>word</th>\n",
       "    </tr>\n",
       "  </thead>\n",
       "  <tbody>\n",
       "    <tr>\n",
       "      <th>15</th>\n",
       "      <td>0.012903</td>\n",
       "      <td>70.596079</td>\n",
       "      <td>0.0</td>\n",
       "      <td>12903.225806</td>\n",
       "      <td>0.513342</td>\n",
       "      <td>куваев</td>\n",
       "    </tr>\n",
       "    <tr>\n",
       "      <th>22</th>\n",
       "      <td>0.007258</td>\n",
       "      <td>70.596079</td>\n",
       "      <td>1.0</td>\n",
       "      <td>7258.064516</td>\n",
       "      <td>0.247216</td>\n",
       "      <td>педофил</td>\n",
       "    </tr>\n",
       "    <tr>\n",
       "      <th>33</th>\n",
       "      <td>0.013710</td>\n",
       "      <td>943.895727</td>\n",
       "      <td>371.1</td>\n",
       "      <td>13709.677419</td>\n",
       "      <td>0.236621</td>\n",
       "      <td>суд</td>\n",
       "    </tr>\n",
       "    <tr>\n",
       "      <th>16</th>\n",
       "      <td>0.004839</td>\n",
       "      <td>19.610022</td>\n",
       "      <td>0.0</td>\n",
       "      <td>4838.709677</td>\n",
       "      <td>0.209969</td>\n",
       "      <td>куваева</td>\n",
       "    </tr>\n",
       "    <tr>\n",
       "      <th>7</th>\n",
       "      <td>0.005645</td>\n",
       "      <td>141.192159</td>\n",
       "      <td>185.1</td>\n",
       "      <td>5645.161290</td>\n",
       "      <td>0.156834</td>\n",
       "      <td>девочка</td>\n",
       "    </tr>\n",
       "    <tr>\n",
       "      <th>34</th>\n",
       "      <td>0.004839</td>\n",
       "      <td>271.925639</td>\n",
       "      <td>126.1</td>\n",
       "      <td>4838.709677</td>\n",
       "      <td>0.108586</td>\n",
       "      <td>судебный</td>\n",
       "    </tr>\n",
       "    <tr>\n",
       "      <th>11</th>\n",
       "      <td>0.004839</td>\n",
       "      <td>270.618304</td>\n",
       "      <td>96.7</td>\n",
       "      <td>4838.709677</td>\n",
       "      <td>0.104079</td>\n",
       "      <td>заседание</td>\n",
       "    </tr>\n",
       "    <tr>\n",
       "      <th>38</th>\n",
       "      <td>0.003226</td>\n",
       "      <td>48.371388</td>\n",
       "      <td>43.5</td>\n",
       "      <td>3225.806452</td>\n",
       "      <td>0.099491</td>\n",
       "      <td>эпизод</td>\n",
       "    </tr>\n",
       "    <tr>\n",
       "      <th>27</th>\n",
       "      <td>0.005645</td>\n",
       "      <td>913.827027</td>\n",
       "      <td>658.3</td>\n",
       "      <td>5645.161290</td>\n",
       "      <td>0.094396</td>\n",
       "      <td>ребенок</td>\n",
       "    </tr>\n",
       "    <tr>\n",
       "      <th>36</th>\n",
       "      <td>0.003226</td>\n",
       "      <td>70.596079</td>\n",
       "      <td>7.5</td>\n",
       "      <td>3225.806452</td>\n",
       "      <td>0.093692</td>\n",
       "      <td>трансляция</td>\n",
       "    </tr>\n",
       "    <tr>\n",
       "      <th>10</th>\n",
       "      <td>0.004032</td>\n",
       "      <td>309.838348</td>\n",
       "      <td>33.5</td>\n",
       "      <td>4032.258065</td>\n",
       "      <td>0.092591</td>\n",
       "      <td>законопроект</td>\n",
       "    </tr>\n",
       "    <tr>\n",
       "      <th>5</th>\n",
       "      <td>0.012097</td>\n",
       "      <td>5277.710595</td>\n",
       "      <td>3727.5</td>\n",
       "      <td>12096.774194</td>\n",
       "      <td>0.092568</td>\n",
       "      <td>год</td>\n",
       "    </tr>\n",
       "    <tr>\n",
       "      <th>14</th>\n",
       "      <td>0.002419</td>\n",
       "      <td>14.380683</td>\n",
       "      <td>4.3</td>\n",
       "      <td>2419.354839</td>\n",
       "      <td>0.092330</td>\n",
       "      <td>изнасилование</td>\n",
       "    </tr>\n",
       "    <tr>\n",
       "      <th>0</th>\n",
       "      <td>0.000000</td>\n",
       "      <td>1.307335</td>\n",
       "      <td>0.0</td>\n",
       "      <td>0.000000</td>\n",
       "      <td>0.092330</td>\n",
       "      <td>аудио</td>\n",
       "    </tr>\n",
       "    <tr>\n",
       "      <th>31</th>\n",
       "      <td>0.000806</td>\n",
       "      <td>33.990705</td>\n",
       "      <td>0.0</td>\n",
       "      <td>806.451613</td>\n",
       "      <td>0.090686</td>\n",
       "      <td>спамер</td>\n",
       "    </tr>\n",
       "    <tr>\n",
       "      <th>9</th>\n",
       "      <td>0.005645</td>\n",
       "      <td>937.359053</td>\n",
       "      <td>433.4</td>\n",
       "      <td>5645.161290</td>\n",
       "      <td>0.086213</td>\n",
       "      <td>закон</td>\n",
       "    </tr>\n",
       "    <tr>\n",
       "      <th>17</th>\n",
       "      <td>0.003226</td>\n",
       "      <td>134.655485</td>\n",
       "      <td>47.9</td>\n",
       "      <td>3225.806452</td>\n",
       "      <td>0.082619</td>\n",
       "      <td>леонид</td>\n",
       "    </tr>\n",
       "    <tr>\n",
       "      <th>20</th>\n",
       "      <td>0.002419</td>\n",
       "      <td>41.834714</td>\n",
       "      <td>12.5</td>\n",
       "      <td>2419.354839</td>\n",
       "      <td>0.079108</td>\n",
       "      <td>несовершеннолетний</td>\n",
       "    </tr>\n",
       "    <tr>\n",
       "      <th>19</th>\n",
       "      <td>0.003226</td>\n",
       "      <td>264.081630</td>\n",
       "      <td>35.2</td>\n",
       "      <td>3225.806452</td>\n",
       "      <td>0.074073</td>\n",
       "      <td>мвд</td>\n",
       "    </tr>\n",
       "    <tr>\n",
       "      <th>2</th>\n",
       "      <td>0.002419</td>\n",
       "      <td>57.522731</td>\n",
       "      <td>3.5</td>\n",
       "      <td>2419.354839</td>\n",
       "      <td>0.073030</td>\n",
       "      <td>видеозапись</td>\n",
       "    </tr>\n",
       "    <tr>\n",
       "      <th>4</th>\n",
       "      <td>0.002419</td>\n",
       "      <td>77.132753</td>\n",
       "      <td>10.1</td>\n",
       "      <td>2419.354839</td>\n",
       "      <td>0.073030</td>\n",
       "      <td>генпрокуратура</td>\n",
       "    </tr>\n",
       "    <tr>\n",
       "      <th>24</th>\n",
       "      <td>0.004032</td>\n",
       "      <td>350.365727</td>\n",
       "      <td>97.8</td>\n",
       "      <td>4032.258065</td>\n",
       "      <td>0.071837</td>\n",
       "      <td>приводить</td>\n",
       "    </tr>\n",
       "    <tr>\n",
       "      <th>13</th>\n",
       "      <td>0.004839</td>\n",
       "      <td>1158.298634</td>\n",
       "      <td>91.0</td>\n",
       "      <td>4838.709677</td>\n",
       "      <td>0.071223</td>\n",
       "      <td>известие</td>\n",
       "    </tr>\n",
       "    <tr>\n",
       "      <th>6</th>\n",
       "      <td>0.001613</td>\n",
       "      <td>7.844009</td>\n",
       "      <td>0.0</td>\n",
       "      <td>1612.903226</td>\n",
       "      <td>0.069990</td>\n",
       "      <td>головко</td>\n",
       "    </tr>\n",
       "    <tr>\n",
       "      <th>30</th>\n",
       "      <td>0.001613</td>\n",
       "      <td>6.536674</td>\n",
       "      <td>3.0</td>\n",
       "      <td>1612.903226</td>\n",
       "      <td>0.069990</td>\n",
       "      <td>снисхождение</td>\n",
       "    </tr>\n",
       "    <tr>\n",
       "      <th>32</th>\n",
       "      <td>0.001613</td>\n",
       "      <td>7.844009</td>\n",
       "      <td>0.0</td>\n",
       "      <td>1612.903226</td>\n",
       "      <td>0.069990</td>\n",
       "      <td>стенографирование</td>\n",
       "    </tr>\n",
       "    <tr>\n",
       "      <th>3</th>\n",
       "      <td>0.001613</td>\n",
       "      <td>6.536674</td>\n",
       "      <td>1.8</td>\n",
       "      <td>1612.903226</td>\n",
       "      <td>0.069990</td>\n",
       "      <td>воспитанница</td>\n",
       "    </tr>\n",
       "    <tr>\n",
       "      <th>25</th>\n",
       "      <td>0.002419</td>\n",
       "      <td>86.284097</td>\n",
       "      <td>38.7</td>\n",
       "      <td>2419.354839</td>\n",
       "      <td>0.069853</td>\n",
       "      <td>приговор</td>\n",
       "    </tr>\n",
       "    <tr>\n",
       "      <th>12</th>\n",
       "      <td>0.001613</td>\n",
       "      <td>10.458678</td>\n",
       "      <td>0.0</td>\n",
       "      <td>1612.903226</td>\n",
       "      <td>0.067668</td>\n",
       "      <td>игошин</td>\n",
       "    </tr>\n",
       "    <tr>\n",
       "      <th>21</th>\n",
       "      <td>0.001613</td>\n",
       "      <td>7.844009</td>\n",
       "      <td>2.4</td>\n",
       "      <td>1612.903226</td>\n",
       "      <td>0.067668</td>\n",
       "      <td>оргия</td>\n",
       "    </tr>\n",
       "    <tr>\n",
       "      <th>1</th>\n",
       "      <td>0.002419</td>\n",
       "      <td>104.586784</td>\n",
       "      <td>49.9</td>\n",
       "      <td>2419.354839</td>\n",
       "      <td>0.066208</td>\n",
       "      <td>верховный</td>\n",
       "    </tr>\n",
       "    <tr>\n",
       "      <th>18</th>\n",
       "      <td>0.001613</td>\n",
       "      <td>19.610022</td>\n",
       "      <td>5.9</td>\n",
       "      <td>1612.903226</td>\n",
       "      <td>0.065771</td>\n",
       "      <td>малолетний</td>\n",
       "    </tr>\n",
       "    <tr>\n",
       "      <th>29</th>\n",
       "      <td>0.002419</td>\n",
       "      <td>128.118811</td>\n",
       "      <td>61.2</td>\n",
       "      <td>2419.354839</td>\n",
       "      <td>0.064661</td>\n",
       "      <td>следователь</td>\n",
       "    </tr>\n",
       "    <tr>\n",
       "      <th>23</th>\n",
       "      <td>0.001613</td>\n",
       "      <td>18.302687</td>\n",
       "      <td>40.9</td>\n",
       "      <td>1612.903226</td>\n",
       "      <td>0.062779</td>\n",
       "      <td>половой</td>\n",
       "    </tr>\n",
       "    <tr>\n",
       "      <th>26</th>\n",
       "      <td>0.001613</td>\n",
       "      <td>11.766013</td>\n",
       "      <td>4.4</td>\n",
       "      <td>1612.903226</td>\n",
       "      <td>0.062779</td>\n",
       "      <td>проституция</td>\n",
       "    </tr>\n",
       "    <tr>\n",
       "      <th>35</th>\n",
       "      <td>0.002419</td>\n",
       "      <td>201.329559</td>\n",
       "      <td>85.2</td>\n",
       "      <td>2419.354839</td>\n",
       "      <td>0.062468</td>\n",
       "      <td>судья</td>\n",
       "    </tr>\n",
       "    <tr>\n",
       "      <th>8</th>\n",
       "      <td>0.003226</td>\n",
       "      <td>573.919978</td>\n",
       "      <td>108.7</td>\n",
       "      <td>3225.806452</td>\n",
       "      <td>0.061243</td>\n",
       "      <td>депутат</td>\n",
       "    </tr>\n",
       "    <tr>\n",
       "      <th>37</th>\n",
       "      <td>0.003226</td>\n",
       "      <td>298.072335</td>\n",
       "      <td>190.9</td>\n",
       "      <td>3225.806452</td>\n",
       "      <td>0.061125</td>\n",
       "      <td>требовать</td>\n",
       "    </tr>\n",
       "    <tr>\n",
       "      <th>28</th>\n",
       "      <td>0.006452</td>\n",
       "      <td>2714.027049</td>\n",
       "      <td>952.2</td>\n",
       "      <td>6451.612903</td>\n",
       "      <td>0.060640</td>\n",
       "      <td>россия</td>\n",
       "    </tr>\n",
       "  </tbody>\n",
       "</table>\n",
       "</div>"
      ],
      "text/plain": [
       "      abs_tf  ipm_collection  ipm_freq        ipm_tf     tfidf  \\\n",
       "15  0.012903       70.596079       0.0  12903.225806  0.513342   \n",
       "22  0.007258       70.596079       1.0   7258.064516  0.247216   \n",
       "33  0.013710      943.895727     371.1  13709.677419  0.236621   \n",
       "16  0.004839       19.610022       0.0   4838.709677  0.209969   \n",
       "7   0.005645      141.192159     185.1   5645.161290  0.156834   \n",
       "34  0.004839      271.925639     126.1   4838.709677  0.108586   \n",
       "11  0.004839      270.618304      96.7   4838.709677  0.104079   \n",
       "38  0.003226       48.371388      43.5   3225.806452  0.099491   \n",
       "27  0.005645      913.827027     658.3   5645.161290  0.094396   \n",
       "36  0.003226       70.596079       7.5   3225.806452  0.093692   \n",
       "10  0.004032      309.838348      33.5   4032.258065  0.092591   \n",
       "5   0.012097     5277.710595    3727.5  12096.774194  0.092568   \n",
       "14  0.002419       14.380683       4.3   2419.354839  0.092330   \n",
       "0   0.000000        1.307335       0.0      0.000000  0.092330   \n",
       "31  0.000806       33.990705       0.0    806.451613  0.090686   \n",
       "9   0.005645      937.359053     433.4   5645.161290  0.086213   \n",
       "17  0.003226      134.655485      47.9   3225.806452  0.082619   \n",
       "20  0.002419       41.834714      12.5   2419.354839  0.079108   \n",
       "19  0.003226      264.081630      35.2   3225.806452  0.074073   \n",
       "2   0.002419       57.522731       3.5   2419.354839  0.073030   \n",
       "4   0.002419       77.132753      10.1   2419.354839  0.073030   \n",
       "24  0.004032      350.365727      97.8   4032.258065  0.071837   \n",
       "13  0.004839     1158.298634      91.0   4838.709677  0.071223   \n",
       "6   0.001613        7.844009       0.0   1612.903226  0.069990   \n",
       "30  0.001613        6.536674       3.0   1612.903226  0.069990   \n",
       "32  0.001613        7.844009       0.0   1612.903226  0.069990   \n",
       "3   0.001613        6.536674       1.8   1612.903226  0.069990   \n",
       "25  0.002419       86.284097      38.7   2419.354839  0.069853   \n",
       "12  0.001613       10.458678       0.0   1612.903226  0.067668   \n",
       "21  0.001613        7.844009       2.4   1612.903226  0.067668   \n",
       "1   0.002419      104.586784      49.9   2419.354839  0.066208   \n",
       "18  0.001613       19.610022       5.9   1612.903226  0.065771   \n",
       "29  0.002419      128.118811      61.2   2419.354839  0.064661   \n",
       "23  0.001613       18.302687      40.9   1612.903226  0.062779   \n",
       "26  0.001613       11.766013       4.4   1612.903226  0.062779   \n",
       "35  0.002419      201.329559      85.2   2419.354839  0.062468   \n",
       "8   0.003226      573.919978     108.7   3225.806452  0.061243   \n",
       "37  0.003226      298.072335     190.9   3225.806452  0.061125   \n",
       "28  0.006452     2714.027049     952.2   6451.612903  0.060640   \n",
       "\n",
       "                  word  \n",
       "15              куваев  \n",
       "22             педофил  \n",
       "33                 суд  \n",
       "16             куваева  \n",
       "7              девочка  \n",
       "34            судебный  \n",
       "11           заседание  \n",
       "38              эпизод  \n",
       "27             ребенок  \n",
       "36          трансляция  \n",
       "10        законопроект  \n",
       "5                  год  \n",
       "14       изнасилование  \n",
       "0                аудио  \n",
       "31              спамер  \n",
       "9                закон  \n",
       "17              леонид  \n",
       "20  несовершеннолетний  \n",
       "19                 мвд  \n",
       "2          видеозапись  \n",
       "4       генпрокуратура  \n",
       "24           приводить  \n",
       "13            известие  \n",
       "6              головко  \n",
       "30        снисхождение  \n",
       "32   стенографирование  \n",
       "3         воспитанница  \n",
       "25            приговор  \n",
       "12              игошин  \n",
       "21               оргия  \n",
       "1            верховный  \n",
       "18          малолетний  \n",
       "29         следователь  \n",
       "23             половой  \n",
       "26         проституция  \n",
       "35               судья  \n",
       "8              депутат  \n",
       "37           требовать  \n",
       "28              россия  "
      ]
     },
     "execution_count": 251,
     "metadata": {},
     "output_type": "execute_result"
    }
   ],
   "source": [
    "key_words"
   ]
  },
  {
   "cell_type": "markdown",
   "metadata": {},
   "source": [
    "## Редкие слова в коллекции"
   ]
  },
  {
   "cell_type": "code",
   "execution_count": null,
   "metadata": {
    "collapsed": false
   },
   "outputs": [],
   "source": [
    "df_all.items()"
   ]
  },
  {
   "cell_type": "code",
   "execution_count": 287,
   "metadata": {
    "collapsed": false
   },
   "outputs": [],
   "source": [
    "rare_words = [key for key, value in sorted(df_all.items(), key = lambda x: x[1]) if value<4 and key in all_words]"
   ]
  },
  {
   "cell_type": "code",
   "execution_count": 288,
   "metadata": {
    "collapsed": false
   },
   "outputs": [
    {
     "data": {
      "text/plain": [
       "['оппозицииизвестие',\n",
       " 'куваевув',\n",
       " 'развратник',\n",
       " 'сводница',\n",
       " 'худенький',\n",
       " 'жуков',\n",
       " 'невменяемость',\n",
       " 'педофильский',\n",
       " 'сношение',\n",
       " 'гособвинение',\n",
       " 'общедоступнымипроект',\n",
       " 'государственный-правовой',\n",
       " 'поддавливать',\n",
       " 'неразборчиво',\n",
       " 'натравлять',\n",
       " '-заявлять',\n",
       " 'втираться',\n",
       " 'водить',\n",
       " 'утеха',\n",
       " 'пособничество',\n",
       " 'сауна',\n",
       " 'джакузи',\n",
       " 'барный',\n",
       " 'приглушенный',\n",
       " 'прения',\n",
       " 'массачусетс']"
      ]
     },
     "execution_count": 288,
     "metadata": {},
     "output_type": "execute_result"
    }
   ],
   "source": [
    "rare_words = [word for word in rare_words if all_words[word] < 2]\n",
    "rare_words"
   ]
  },
  {
   "cell_type": "markdown",
   "metadata": {},
   "source": [
    "## Разделение коллекции"
   ]
  },
  {
   "cell_type": "code",
   "execution_count": 295,
   "metadata": {
    "collapsed": false
   },
   "outputs": [],
   "source": [
    "new_texts = [\" \".join(data[\"text\"][i*122 : i*122 + 122]) for i in range(0,10)]"
   ]
  },
  {
   "cell_type": "code",
   "execution_count": null,
   "metadata": {
    "collapsed": false
   },
   "outputs": [],
   "source": [
    "new_texts"
   ]
  }
 ],
 "metadata": {
  "kernelspec": {
   "display_name": "Python 3",
   "language": "python",
   "name": "python3"
  },
  "language_info": {
   "codemirror_mode": {
    "name": "ipython",
    "version": 3
   },
   "file_extension": ".py",
   "mimetype": "text/x-python",
   "name": "python",
   "nbconvert_exporter": "python",
   "pygments_lexer": "ipython3",
   "version": "3.6.5"
  }
 },
 "nbformat": 4,
 "nbformat_minor": 2
}
